{
 "cells": [
  {
   "cell_type": "code",
   "execution_count": 1,
   "id": "179f6a54-402e-4c78-bb14-a669511247dc",
   "metadata": {},
   "outputs": [
    {
     "name": "stdout",
     "output_type": "stream",
     "text": [
      "Requirement already satisfied: tensorflow in c:\\users\\user\\anaconda3\\lib\\site-packages (2.16.1)\n",
      "Requirement already satisfied: tensorflow-intel==2.16.1 in c:\\users\\user\\anaconda3\\lib\\site-packages (from tensorflow) (2.16.1)\n",
      "Requirement already satisfied: absl-py>=1.0.0 in c:\\users\\user\\anaconda3\\lib\\site-packages (from tensorflow-intel==2.16.1->tensorflow) (2.1.0)\n",
      "Requirement already satisfied: astunparse>=1.6.0 in c:\\users\\user\\anaconda3\\lib\\site-packages (from tensorflow-intel==2.16.1->tensorflow) (1.6.3)\n",
      "Requirement already satisfied: flatbuffers>=23.5.26 in c:\\users\\user\\anaconda3\\lib\\site-packages (from tensorflow-intel==2.16.1->tensorflow) (24.3.25)\n",
      "Requirement already satisfied: gast!=0.5.0,!=0.5.1,!=0.5.2,>=0.2.1 in c:\\users\\user\\anaconda3\\lib\\site-packages (from tensorflow-intel==2.16.1->tensorflow) (0.5.4)\n",
      "Requirement already satisfied: google-pasta>=0.1.1 in c:\\users\\user\\anaconda3\\lib\\site-packages (from tensorflow-intel==2.16.1->tensorflow) (0.2.0)\n",
      "Requirement already satisfied: h5py>=3.10.0 in c:\\users\\user\\anaconda3\\lib\\site-packages (from tensorflow-intel==2.16.1->tensorflow) (3.11.0)\n",
      "Requirement already satisfied: libclang>=13.0.0 in c:\\users\\user\\anaconda3\\lib\\site-packages (from tensorflow-intel==2.16.1->tensorflow) (18.1.1)\n",
      "Requirement already satisfied: ml-dtypes~=0.3.1 in c:\\users\\user\\anaconda3\\lib\\site-packages (from tensorflow-intel==2.16.1->tensorflow) (0.3.2)\n",
      "Requirement already satisfied: opt-einsum>=2.3.2 in c:\\users\\user\\anaconda3\\lib\\site-packages (from tensorflow-intel==2.16.1->tensorflow) (3.3.0)\n",
      "Requirement already satisfied: packaging in c:\\users\\user\\anaconda3\\lib\\site-packages (from tensorflow-intel==2.16.1->tensorflow) (23.1)\n",
      "Requirement already satisfied: protobuf!=4.21.0,!=4.21.1,!=4.21.2,!=4.21.3,!=4.21.4,!=4.21.5,<5.0.0dev,>=3.20.3 in c:\\users\\user\\anaconda3\\lib\\site-packages (from tensorflow-intel==2.16.1->tensorflow) (3.20.3)\n",
      "Requirement already satisfied: requests<3,>=2.21.0 in c:\\users\\user\\anaconda3\\lib\\site-packages (from tensorflow-intel==2.16.1->tensorflow) (2.31.0)\n",
      "Requirement already satisfied: setuptools in c:\\users\\user\\anaconda3\\lib\\site-packages (from tensorflow-intel==2.16.1->tensorflow) (68.2.2)\n",
      "Requirement already satisfied: six>=1.12.0 in c:\\users\\user\\anaconda3\\lib\\site-packages (from tensorflow-intel==2.16.1->tensorflow) (1.16.0)\n",
      "Requirement already satisfied: termcolor>=1.1.0 in c:\\users\\user\\anaconda3\\lib\\site-packages (from tensorflow-intel==2.16.1->tensorflow) (2.4.0)\n",
      "Requirement already satisfied: typing-extensions>=3.6.6 in c:\\users\\user\\anaconda3\\lib\\site-packages (from tensorflow-intel==2.16.1->tensorflow) (4.9.0)\n",
      "Requirement already satisfied: wrapt>=1.11.0 in c:\\users\\user\\anaconda3\\lib\\site-packages (from tensorflow-intel==2.16.1->tensorflow) (1.14.1)\n",
      "Requirement already satisfied: grpcio<2.0,>=1.24.3 in c:\\users\\user\\anaconda3\\lib\\site-packages (from tensorflow-intel==2.16.1->tensorflow) (1.62.2)\n",
      "Requirement already satisfied: tensorboard<2.17,>=2.16 in c:\\users\\user\\anaconda3\\lib\\site-packages (from tensorflow-intel==2.16.1->tensorflow) (2.16.2)\n",
      "Requirement already satisfied: keras>=3.0.0 in c:\\users\\user\\anaconda3\\lib\\site-packages (from tensorflow-intel==2.16.1->tensorflow) (3.2.1)\n",
      "Requirement already satisfied: tensorflow-io-gcs-filesystem>=0.23.1 in c:\\users\\user\\anaconda3\\lib\\site-packages (from tensorflow-intel==2.16.1->tensorflow) (0.31.0)\n",
      "Requirement already satisfied: numpy<2.0.0,>=1.23.5 in c:\\users\\user\\anaconda3\\lib\\site-packages (from tensorflow-intel==2.16.1->tensorflow) (1.26.4)\n",
      "Requirement already satisfied: wheel<1.0,>=0.23.0 in c:\\users\\user\\anaconda3\\lib\\site-packages (from astunparse>=1.6.0->tensorflow-intel==2.16.1->tensorflow) (0.41.2)\n",
      "Requirement already satisfied: rich in c:\\users\\user\\anaconda3\\lib\\site-packages (from keras>=3.0.0->tensorflow-intel==2.16.1->tensorflow) (13.3.5)\n",
      "Requirement already satisfied: namex in c:\\users\\user\\anaconda3\\lib\\site-packages (from keras>=3.0.0->tensorflow-intel==2.16.1->tensorflow) (0.0.8)\n",
      "Requirement already satisfied: optree in c:\\users\\user\\anaconda3\\lib\\site-packages (from keras>=3.0.0->tensorflow-intel==2.16.1->tensorflow) (0.11.0)\n",
      "Requirement already satisfied: charset-normalizer<4,>=2 in c:\\users\\user\\anaconda3\\lib\\site-packages (from requests<3,>=2.21.0->tensorflow-intel==2.16.1->tensorflow) (2.0.4)\n",
      "Requirement already satisfied: idna<4,>=2.5 in c:\\users\\user\\anaconda3\\lib\\site-packages (from requests<3,>=2.21.0->tensorflow-intel==2.16.1->tensorflow) (3.4)\n",
      "Requirement already satisfied: urllib3<3,>=1.21.1 in c:\\users\\user\\anaconda3\\lib\\site-packages (from requests<3,>=2.21.0->tensorflow-intel==2.16.1->tensorflow) (2.0.7)\n",
      "Requirement already satisfied: certifi>=2017.4.17 in c:\\users\\user\\anaconda3\\lib\\site-packages (from requests<3,>=2.21.0->tensorflow-intel==2.16.1->tensorflow) (2024.2.2)\n",
      "Requirement already satisfied: markdown>=2.6.8 in c:\\users\\user\\anaconda3\\lib\\site-packages (from tensorboard<2.17,>=2.16->tensorflow-intel==2.16.1->tensorflow) (3.4.1)\n",
      "Requirement already satisfied: tensorboard-data-server<0.8.0,>=0.7.0 in c:\\users\\user\\anaconda3\\lib\\site-packages (from tensorboard<2.17,>=2.16->tensorflow-intel==2.16.1->tensorflow) (0.7.2)\n",
      "Requirement already satisfied: werkzeug>=1.0.1 in c:\\users\\user\\anaconda3\\lib\\site-packages (from tensorboard<2.17,>=2.16->tensorflow-intel==2.16.1->tensorflow) (2.2.3)\n",
      "Requirement already satisfied: MarkupSafe>=2.1.1 in c:\\users\\user\\anaconda3\\lib\\site-packages (from werkzeug>=1.0.1->tensorboard<2.17,>=2.16->tensorflow-intel==2.16.1->tensorflow) (2.1.3)\n",
      "Requirement already satisfied: markdown-it-py<3.0.0,>=2.2.0 in c:\\users\\user\\anaconda3\\lib\\site-packages (from rich->keras>=3.0.0->tensorflow-intel==2.16.1->tensorflow) (2.2.0)\n",
      "Requirement already satisfied: pygments<3.0.0,>=2.13.0 in c:\\users\\user\\anaconda3\\lib\\site-packages (from rich->keras>=3.0.0->tensorflow-intel==2.16.1->tensorflow) (2.15.1)\n",
      "Requirement already satisfied: mdurl~=0.1 in c:\\users\\user\\anaconda3\\lib\\site-packages (from markdown-it-py<3.0.0,>=2.2.0->rich->keras>=3.0.0->tensorflow-intel==2.16.1->tensorflow) (0.1.0)\n"
     ]
    }
   ],
   "source": [
    "!pip install tensorflow\n"
   ]
  },
  {
   "cell_type": "code",
   "execution_count": 2,
   "id": "aa600c0a-0ba2-4f54-aea0-18f8ceb42b8f",
   "metadata": {},
   "outputs": [
    {
     "name": "stdout",
     "output_type": "stream",
     "text": [
      "Requirement already satisfied: opencv-python in c:\\users\\user\\anaconda3\\lib\\site-packages (4.9.0.80)Note: you may need to restart the kernel to use updated packages.\n",
      "\n",
      "Requirement already satisfied: numpy>=1.21.2 in c:\\users\\user\\anaconda3\\lib\\site-packages (from opencv-python) (1.26.4)\n"
     ]
    }
   ],
   "source": [
    "pip install opencv-python\n"
   ]
  },
  {
   "cell_type": "code",
   "execution_count": 3,
   "id": "4fa13199-ba01-4148-9697-3cc6e8d74fce",
   "metadata": {},
   "outputs": [],
   "source": [
    "import cv2\n",
    "import os\n",
    "import random\n",
    "import numpy as np\n",
    "from matplotlib import pyplot as plt\n"
   ]
  },
  {
   "cell_type": "code",
   "execution_count": 4,
   "id": "5c456df1-b6bb-4c3d-b566-15d700dd90aa",
   "metadata": {},
   "outputs": [],
   "source": [
    "#functional Api\n",
    "from tensorflow.keras.models import Model\n",
    "from tensorflow.keras.layers import Layer, Conv2D, Dense, MaxPooling2D, Input, Flatten\n",
    "import tensorflow as tf\n"
   ]
  },
  {
   "cell_type": "markdown",
   "id": "60f091d7-3a20-4201-8e4c-1a44b719ee3e",
   "metadata": {},
   "source": [
    "#FOR GPU GROWTH SETUP"
   ]
  },
  {
   "cell_type": "code",
   "execution_count": 5,
   "id": "3f2f9ce0-0322-40de-90ad-db3c4f3818b4",
   "metadata": {},
   "outputs": [],
   "source": [
    "# Prevent Out-of-Memory errors by adjusting GPU Memory Consumption Growth\n",
    "available_gpus = tf.config.experimental.list_physical_devices('GPU')\n",
    "for device in available_gpus: \n",
    "    tf.config.experimental.set_memory_growth(device, True)\n"
   ]
  },
  {
   "cell_type": "code",
   "execution_count": 6,
   "id": "391d2762-c93f-42a0-9200-c44fc7df5aa9",
   "metadata": {},
   "outputs": [
    {
     "name": "stdout",
     "output_type": "stream",
     "text": [
      "[]\n"
     ]
    }
   ],
   "source": [
    "print(available_gpus)\n"
   ]
  },
  {
   "cell_type": "code",
   "execution_count": 7,
   "id": "1c6dcb01-29c7-4cce-984a-4eb28ab28e1b",
   "metadata": {},
   "outputs": [],
   "source": [
    "POS_PATH = os.path.join('data','positive')\n",
    "NEG_PATH = os.path.join('data','negative')\n",
    "ANC_PATH = os.path.join('data','anchor')\n"
   ]
  },
  {
   "cell_type": "code",
   "execution_count": 8,
   "id": "9cd1409a-8aa5-42f2-af20-f8436168666e",
   "metadata": {
    "scrolled": true
   },
   "outputs": [
    {
     "ename": "FileExistsError",
     "evalue": "[WinError 183] Cannot create a file when that file already exists: 'data\\\\positive'",
     "output_type": "error",
     "traceback": [
      "\u001b[1;31m---------------------------------------------------------------------------\u001b[0m",
      "\u001b[1;31mFileExistsError\u001b[0m                           Traceback (most recent call last)",
      "Cell \u001b[1;32mIn[8], line 1\u001b[0m\n\u001b[1;32m----> 1\u001b[0m os\u001b[38;5;241m.\u001b[39mmakedirs(POS_PATH)\n\u001b[0;32m      2\u001b[0m os\u001b[38;5;241m.\u001b[39mmakedirs(NEG_PATH)\n\u001b[0;32m      3\u001b[0m os\u001b[38;5;241m.\u001b[39mmakedirs(ANC_PATH)\n",
      "File \u001b[1;32m<frozen os>:225\u001b[0m, in \u001b[0;36mmakedirs\u001b[1;34m(name, mode, exist_ok)\u001b[0m\n",
      "\u001b[1;31mFileExistsError\u001b[0m: [WinError 183] Cannot create a file when that file already exists: 'data\\\\positive'"
     ]
    }
   ],
   "source": [
    "os.makedirs(POS_PATH)\n",
    "os.makedirs(NEG_PATH)\n",
    "os.makedirs(ANC_PATH)\n"
   ]
  },
  {
   "cell_type": "code",
   "execution_count": null,
   "id": "da9a4a02-b4ef-478c-85d8-ff5eea50e234",
   "metadata": {},
   "outputs": [],
   "source": [
    "#unzipping labeblled faces in dataset\n",
    "!tar -xf lfw.tgz\n"
   ]
  },
  {
   "cell_type": "code",
   "execution_count": 9,
   "id": "3ee9b0c7-ac75-42be-aaf0-3aa91ca6444e",
   "metadata": {},
   "outputs": [
    {
     "ename": "FileNotFoundError",
     "evalue": "[WinError 3] The system cannot find the path specified: 'lfw'",
     "output_type": "error",
     "traceback": [
      "\u001b[1;31m---------------------------------------------------------------------------\u001b[0m",
      "\u001b[1;31mFileNotFoundError\u001b[0m                         Traceback (most recent call last)",
      "Cell \u001b[1;32mIn[9], line 5\u001b[0m\n\u001b[0;32m      1\u001b[0m \u001b[38;5;66;03m#now move dataset to negative folder using python code (filtering)\u001b[39;00m\n\u001b[0;32m      3\u001b[0m \u001b[38;5;28;01mimport\u001b[39;00m \u001b[38;5;21;01mos\u001b[39;00m\n\u001b[1;32m----> 5\u001b[0m \u001b[38;5;28;01mfor\u001b[39;00m folder \u001b[38;5;129;01min\u001b[39;00m os\u001b[38;5;241m.\u001b[39mlistdir(\u001b[38;5;124m'\u001b[39m\u001b[38;5;124mlfw\u001b[39m\u001b[38;5;124m'\u001b[39m):\n\u001b[0;32m      6\u001b[0m     \u001b[38;5;28;01mfor\u001b[39;00m image_file \u001b[38;5;129;01min\u001b[39;00m os\u001b[38;5;241m.\u001b[39mlistdir(os\u001b[38;5;241m.\u001b[39mpath\u001b[38;5;241m.\u001b[39mjoin(\u001b[38;5;124m'\u001b[39m\u001b[38;5;124mlfw\u001b[39m\u001b[38;5;124m'\u001b[39m, folder)):\n\u001b[0;32m      7\u001b[0m         existing_path \u001b[38;5;241m=\u001b[39m os\u001b[38;5;241m.\u001b[39mpath\u001b[38;5;241m.\u001b[39mjoin(\u001b[38;5;124m'\u001b[39m\u001b[38;5;124mlfw\u001b[39m\u001b[38;5;124m'\u001b[39m, folder, image_file)\n",
      "\u001b[1;31mFileNotFoundError\u001b[0m: [WinError 3] The system cannot find the path specified: 'lfw'"
     ]
    }
   ],
   "source": [
    "#now move dataset to negative folder using python code (filtering)\n",
    "\n",
    "import os\n",
    "\n",
    "for folder in os.listdir('lfw'):\n",
    "    for image_file in os.listdir(os.path.join('lfw', folder)):\n",
    "        existing_path = os.path.join('lfw', folder, image_file)\n",
    "        new_path = os.path.join(NEG_PATH, image_file)\n",
    "        os.replace(existing_path, new_path)\n",
    "\n",
    "\n",
    "\n",
    "\n"
   ]
  },
  {
   "cell_type": "code",
   "execution_count": 10,
   "id": "a4f74104-5850-4ad4-aa35-79c1552229f9",
   "metadata": {},
   "outputs": [
    {
     "ename": "FileNotFoundError",
     "evalue": "[WinError 3] The system cannot find the path specified: 'lfw'",
     "output_type": "error",
     "traceback": [
      "\u001b[1;31m---------------------------------------------------------------------------\u001b[0m",
      "\u001b[1;31mFileNotFoundError\u001b[0m                         Traceback (most recent call last)",
      "Cell \u001b[1;32mIn[10], line 2\u001b[0m\n\u001b[0;32m      1\u001b[0m \u001b[38;5;66;03m#check directories\u001b[39;00m\n\u001b[1;32m----> 2\u001b[0m \u001b[38;5;28;01mfor\u001b[39;00m folder \u001b[38;5;129;01min\u001b[39;00m os\u001b[38;5;241m.\u001b[39mlistdir(\u001b[38;5;124m'\u001b[39m\u001b[38;5;124mlfw\u001b[39m\u001b[38;5;124m'\u001b[39m):\n\u001b[0;32m      3\u001b[0m     \u001b[38;5;28;01mfor\u001b[39;00m file \u001b[38;5;129;01min\u001b[39;00m os\u001b[38;5;241m.\u001b[39mlistdir(os\u001b[38;5;241m.\u001b[39mpath\u001b[38;5;241m.\u001b[39mjoin(\u001b[38;5;124m'\u001b[39m\u001b[38;5;124mlfw\u001b[39m\u001b[38;5;124m'\u001b[39m, folder)):\n\u001b[0;32m      4\u001b[0m         \u001b[38;5;28mprint\u001b[39m(os\u001b[38;5;241m.\u001b[39mpath\u001b[38;5;241m.\u001b[39mjoin(\u001b[38;5;124m'\u001b[39m\u001b[38;5;124mlfw\u001b[39m\u001b[38;5;124m'\u001b[39m, folder, file))\n",
      "\u001b[1;31mFileNotFoundError\u001b[0m: [WinError 3] The system cannot find the path specified: 'lfw'"
     ]
    }
   ],
   "source": [
    "#check directories\n",
    "for folder in os.listdir('lfw'):\n",
    "    for file in os.listdir(os.path.join('lfw', folder)):\n",
    "        print(os.path.join('lfw', folder, file))\n",
    "        print(os.path.join(NEG_PATH, file))\n",
    "        \n",
    "       \n"
   ]
  },
  {
   "cell_type": "raw",
   "id": "4d5f451f-24a7-43ab-86be-bab762b07520",
   "metadata": {},
   "source": [
    "i have deleted folder lfw after all extraction and checking after collection of negative collect positive and anchors via webcam\n"
   ]
  },
  {
   "cell_type": "markdown",
   "id": "e2b8f28d-4814-4cb2-99e2-c4f7d35029b5",
   "metadata": {},
   "source": [
    "## collecting positive and anchors via webcam"
   ]
  },
  {
   "cell_type": "code",
   "execution_count": 11,
   "id": "51d41a31-8ec5-4d04-9735-0b02d0e22960",
   "metadata": {},
   "outputs": [
    {
     "data": {
      "text/plain": [
       "'ac2133cc-12af-11ef-94c8-e4a7a0e74dec.jpg'"
      ]
     },
     "execution_count": 11,
     "metadata": {},
     "output_type": "execute_result"
    }
   ],
   "source": [
    "import uuid  #for unique image name\n",
    "#testing it\n",
    "'{}.jpg'.format(uuid.uuid1())\n"
   ]
  },
  {
   "cell_type": "code",
   "execution_count": 12,
   "id": "49143422-9f09-4b3b-8b2b-441cbe8ac42e",
   "metadata": {},
   "outputs": [],
   "source": [
    "import cv2\n",
    "import os\n",
    "import uuid\n",
    "\n",
    "#connection establish\n",
    "cap = cv2.VideoCapture(0)\n",
    "while cap.isOpened(): \n",
    "    ret, frame = cap.read()\n",
    "   \n",
    "    # Cut frame to 250x250px\n",
    "    frame = frame[120:120+250,200:200+250, :]\n",
    "    \n",
    "    # anchor collections \n",
    "    if cv2.waitKey(1) & 0XFF == ord('a'):    # Wait for 'a' key press to collect anchor\n",
    "         \n",
    "        imgname = os.path.join(ANC_PATH, '{}.jpg'.format(uuid.uuid1()))  # for uniq file name\n",
    "         # Save anchor image\n",
    "        cv2.imwrite(imgname, frame)\n",
    "    \n",
    "    # Collect positives\n",
    "    if cv2.waitKey(1) & 0XFF == ord('p'):  # Wait for 'p' key press to collect postives\n",
    "        # Create the unique file path \n",
    "        imgname = os.path.join(POS_PATH, '{}.jpg'.format(uuid.uuid1()))\n",
    "        # Save anchor image\n",
    "        cv2.imwrite(imgname, frame)\n",
    "    \n",
    "    # Show image back to screen\n",
    "    cv2.imshow('Image Collection', frame)\n",
    "    \n",
    "    # Breaking gracefully\n",
    "    if cv2.waitKey(1) & 0XFF == ord('q'):     # Wait for 'q' key press to quit\n",
    "        break\n",
    "        \n",
    "\n",
    "cap.release()\n",
    "# Closew frame\n",
    "cv2.destroyAllWindows()\n"
   ]
  },
  {
   "cell_type": "code",
   "execution_count": 13,
   "id": "b833afde-44d7-4c30-85ef-a654c19ed5bf",
   "metadata": {},
   "outputs": [],
   "source": [
    "anchor = tf.data.Dataset.list_files(ANC_PATH+'\\*.jpg').take(300)\n",
    "positive = tf.data.Dataset.list_files(POS_PATH+'\\*.jpg').take(300)\n",
    "negative = tf.data.Dataset.list_files(NEG_PATH+'\\*.jpg').take(300)\n"
   ]
  },
  {
   "cell_type": "code",
   "execution_count": 14,
   "id": "63afa4d2-0ec8-4e76-b609-cc63c8384019",
   "metadata": {},
   "outputs": [
    {
     "data": {
      "text/plain": [
       "b'data\\\\positive\\\\9eadf46d-ffca-11ee-a26d-18dbf217c41f.jpg'"
      ]
     },
     "execution_count": 14,
     "metadata": {},
     "output_type": "execute_result"
    }
   ],
   "source": [
    "pos_test = positive.as_numpy_iterator()\n",
    "pos_test.next()\n"
   ]
  },
  {
   "cell_type": "code",
   "execution_count": 15,
   "id": "b78f027e-5cc2-46c2-a5d6-13d87dbe5102",
   "metadata": {},
   "outputs": [],
   "source": [
    "def preprocess(file_path):\n",
    "    byte_image = tf.io.read_file(file_path)\n",
    "    image = tf.io.decode_jpeg(byte_image)\n",
    "    image = tf.image.resize(image, (100, 100))\n",
    "    image = image / 255.0\n",
    "    return image\n"
   ]
  },
  {
   "cell_type": "code",
   "execution_count": 19,
   "id": "86aeec3f",
   "metadata": {},
   "outputs": [
    {
     "data": {
      "text/plain": [
       "<matplotlib.image.AxesImage at 0x1e856411890>"
      ]
     },
     "execution_count": 19,
     "metadata": {},
     "output_type": "execute_result"
    },
    {
     "data": {
      "image/png": "[encoded data removed]",
      "text/plain": [
       "<Figure size 640x480 with 1 Axes>"
      ]
     },
     "metadata": {},
     "output_type": "display_data"
    }
   ],
   "source": [
    "plt.imshow(preprocess(pos_test.next()))\n"
   ]
  },
  {
   "cell_type": "code",
   "execution_count": 20,
   "id": "06d32f64",
   "metadata": {},
   "outputs": [],
   "source": [
    "positives = tf.data.Dataset.zip((anchor, positive, tf.data.Dataset.from_tensor_slices(tf.ones(len(anchor))))) \n",
    "negatives = tf.data.Dataset.zip((anchor, negative, tf.data.Dataset.from_tensor_slices(tf.zeros(len(anchor))))) \n",
    "data = positives.concatenate(negatives)\n"
   ]
  },
  {
   "cell_type": "code",
   "execution_count": 21,
   "id": "c1b7eeb7",
   "metadata": {},
   "outputs": [],
   "source": [
    "data_test = data.as_numpy_iterator()\n"
   ]
  },
  {
   "cell_type": "code",
   "execution_count": 22,
   "id": "e81aa40c",
   "metadata": {},
   "outputs": [
    {
     "data": {
      "text/plain": [
       "(b'data\\\\anchor\\\\7dd9b211-ffca-11ee-8376-18dbf217c41f.jpg',\n",
       " b'data\\\\positive\\\\9bb20b3d-ffca-11ee-ba85-18dbf217c41f.jpg',\n",
       " 1.0)"
      ]
     },
     "execution_count": 22,
     "metadata": {},
     "output_type": "execute_result"
    }
   ],
   "source": [
    "data_test.next()\n"
   ]
  },
  {
   "cell_type": "code",
   "execution_count": 23,
   "id": "9da66932",
   "metadata": {},
   "outputs": [],
   "source": [
    "def preprocess_twin(input_img, validation_img, label):\n",
    "    return (preprocess(input_img), preprocess(validation_img), label)\n"
   ]
  },
  {
   "cell_type": "code",
   "execution_count": 24,
   "id": "0db73d88",
   "metadata": {},
   "outputs": [
    {
     "data": {
      "text/plain": [
       "(<tf.Tensor: shape=(100, 100, 3), dtype=float32, numpy=\n",
       " array([[[0.39362746, 0.46029413, 0.43676472],\n",
       "         [0.38504902, 0.43333334, 0.4134804 ],\n",
       "         [0.42352942, 0.4639706 , 0.42916667],\n",
       "         ...,\n",
       "         [0.38112745, 0.38897058, 0.33504903],\n",
       "         [0.3718137 , 0.37965685, 0.3345588 ],\n",
       "         [0.46519607, 0.46911764, 0.4377451 ]],\n",
       " \n",
       "        [[0.45588234, 0.5117647 , 0.5009804 ],\n",
       "         [0.39338234, 0.4392157 , 0.4257353 ],\n",
       "         [0.38431373, 0.42156863, 0.40294117],\n",
       "         ...,\n",
       "         [0.3875    , 0.39534312, 0.34264705],\n",
       "         [0.36985293, 0.37769607, 0.33308825],\n",
       "         [0.36642158, 0.37034315, 0.3389706 ]],\n",
       " \n",
       "        [[0.40367648, 0.44485295, 0.43995097],\n",
       "         [0.4034314 , 0.44338235, 0.4387255 ],\n",
       "         [0.4014706 , 0.4370098 , 0.4272059 ],\n",
       "         ...,\n",
       "         [0.38897058, 0.39681372, 0.34779412],\n",
       "         [0.3745098 , 0.38235295, 0.3392157 ],\n",
       "         [0.36593136, 0.36985293, 0.33848038]],\n",
       " \n",
       "        ...,\n",
       " \n",
       "        [[0.44411764, 0.5232843 , 0.54019606],\n",
       "         [0.4107843 , 0.5183824 , 0.55220586],\n",
       "         [0.36911765, 0.50514704, 0.5468137 ],\n",
       "         ...,\n",
       "         [0.17132352, 0.19877452, 0.23602942],\n",
       "         [0.14681372, 0.18014705, 0.20857844],\n",
       "         [0.11568628, 0.1509804 , 0.17843138]],\n",
       " \n",
       "        [[0.38112745, 0.5115196 , 0.5769608 ],\n",
       "         [0.3526961 , 0.49779412, 0.5713235 ],\n",
       "         [0.34264705, 0.50735295, 0.57990193],\n",
       "         ...,\n",
       "         [0.14705883, 0.17450981, 0.21176471],\n",
       "         [0.14558823, 0.17450981, 0.20514706],\n",
       "         [0.11102941, 0.14632353, 0.17377451]],\n",
       " \n",
       "        [[0.3125    , 0.48995098, 0.58112746],\n",
       "         [0.30906862, 0.48357844, 0.58259803],\n",
       "         [0.33553922, 0.51740193, 0.6112745 ],\n",
       "         ...,\n",
       "         [0.15514706, 0.18259804, 0.21985294],\n",
       "         [0.16348039, 0.19093138, 0.22230393],\n",
       "         [0.13553922, 0.17083333, 0.19828431]]], dtype=float32)>,\n",
       " <tf.Tensor: shape=(100, 100, 3), dtype=float32, numpy=\n",
       " array([[[0.61446077, 0.6458333 , 0.65367645],\n",
       "         [0.62107843, 0.6622549 , 0.6573529 ],\n",
       "         [0.6127451 , 0.65686274, 0.6431373 ],\n",
       "         ...,\n",
       "         [0.61789215, 0.6286765 , 0.60808825],\n",
       "         [0.57303923, 0.5955882 , 0.5779412 ],\n",
       "         [0.7056373 , 0.7409314 , 0.72132355]],\n",
       " \n",
       "        [[0.7058824 , 0.7404412 , 0.7367647 ],\n",
       "         [0.5973039 , 0.63553923, 0.6311275 ],\n",
       "         [0.57990193, 0.62034315, 0.60784316],\n",
       "         ...,\n",
       "         [0.6161765 , 0.63480395, 0.6220588 ],\n",
       "         [0.61715686, 0.6406863 , 0.6269608 ],\n",
       "         [0.56421566, 0.5995098 , 0.58186275]],\n",
       " \n",
       "        [[0.60588235, 0.6279412 , 0.6227941 ],\n",
       "         [0.62107843, 0.64754903, 0.6401961 ],\n",
       "         [0.62034315, 0.64681375, 0.6379902 ],\n",
       "         ...,\n",
       "         [0.6022059 , 0.61985296, 0.61495095],\n",
       "         [0.57892156, 0.6112745 , 0.6004902 ],\n",
       "         [0.58259803, 0.6237745 , 0.60906863]],\n",
       " \n",
       "        ...,\n",
       " \n",
       "        [[0.1757353 , 0.15808824, 0.15514706],\n",
       "         [0.17181373, 0.15269607, 0.15245098],\n",
       "         [0.1740196 , 0.14828432, 0.15686275],\n",
       "         ...,\n",
       "         [0.12009804, 0.10588235, 0.10392157],\n",
       "         [0.11176471, 0.09166667, 0.09632353],\n",
       "         [0.12058824, 0.09803922, 0.10784314]],\n",
       " \n",
       "        [[0.1754902 , 0.15196079, 0.15196079],\n",
       "         [0.1764706 , 0.15294118, 0.15343137],\n",
       "         [0.1860294 , 0.15367647, 0.15857843],\n",
       "         ...,\n",
       "         [0.12671569, 0.12279411, 0.12598039],\n",
       "         [0.10808823, 0.09828431, 0.10808823],\n",
       "         [0.12156863, 0.10196079, 0.11764706]],\n",
       " \n",
       "        [[0.16764706, 0.14411765, 0.14411765],\n",
       "         [0.17671569, 0.15318628, 0.15318628],\n",
       "         [0.18553922, 0.15318628, 0.15612745],\n",
       "         ...,\n",
       "         [0.19044118, 0.19338235, 0.20122549],\n",
       "         [0.20122549, 0.19534314, 0.2120098 ],\n",
       "         [0.12352941, 0.10392157, 0.12745099]]], dtype=float32)>,\n",
       " 1.0)"
      ]
     },
     "execution_count": 24,
     "metadata": {},
     "output_type": "execute_result"
    }
   ],
   "source": [
    "preprocess_twin(*data_test.next())#dynamic arg\n"
   ]
  },
  {
   "cell_type": "code",
   "execution_count": 25,
   "id": "b94616d2",
   "metadata": {},
   "outputs": [],
   "source": [
    "#dataloader pipeline\n",
    "data = data.map(preprocess_twin)\n",
    "data = data.cache()\n",
    "data = data.shuffle(buffer_size=1024)\n"
   ]
  },
  {
   "cell_type": "code",
   "execution_count": 26,
   "id": "746ee1b9",
   "metadata": {},
   "outputs": [],
   "source": [
    "data_test = data.as_numpy_iterator()\n"
   ]
  },
  {
   "cell_type": "code",
   "execution_count": 27,
   "id": "e50174af",
   "metadata": {},
   "outputs": [
    {
     "data": {
      "text/plain": [
       "(array([[[0.41495097, 0.45416668, 0.4227941 ],\n",
       "         [0.4107843 , 0.44705883, 0.41666666],\n",
       "         [0.41715688, 0.4504902 , 0.42892158],\n",
       "         ...,\n",
       "         [0.3762255 , 0.38406864, 0.3389706 ],\n",
       "         [0.37230393, 0.38014707, 0.32916668],\n",
       "         [0.4117647 , 0.41960785, 0.36862746]],\n",
       " \n",
       "        [[0.4362745 , 0.4715686 , 0.44411764],\n",
       "         [0.40588236, 0.43823528, 0.4137255 ],\n",
       "         [0.40465686, 0.43480393, 0.41691175],\n",
       "         ...,\n",
       "         [0.38137254, 0.38921568, 0.34460783],\n",
       "         [0.37058824, 0.37843138, 0.32941177],\n",
       "         [0.3735294 , 0.38137254, 0.33235294]],\n",
       " \n",
       "        [[0.4259804 , 0.45833334, 0.44558823],\n",
       "         [0.4110294 , 0.4345588 , 0.42328432],\n",
       "         [0.40931374, 0.43284315, 0.41715688],\n",
       "         ...,\n",
       "         [0.38235295, 0.39534312, 0.34558824],\n",
       "         [0.37230393, 0.38308823, 0.33995098],\n",
       "         [0.35882354, 0.36960784, 0.32647058]],\n",
       " \n",
       "        ...,\n",
       " \n",
       "        [[0.48112744, 0.5259804 , 0.52230394],\n",
       "         [0.4242647 , 0.48088235, 0.4884804 ],\n",
       "         [0.41617647, 0.49289215, 0.51642156],\n",
       "         ...,\n",
       "         [0.1629902 , 0.19191177, 0.21666667],\n",
       "         [0.14044118, 0.17524509, 0.19705883],\n",
       "         [0.10563725, 0.14093137, 0.16838235]],\n",
       " \n",
       "        [[0.4392157 , 0.5036765 , 0.51911765],\n",
       "         [0.44754902, 0.5264706 , 0.55220586],\n",
       "         [0.41838235, 0.5232843 , 0.5629902 ],\n",
       "         ...,\n",
       "         [0.15686275, 0.18431373, 0.21568628],\n",
       "         [0.14117648, 0.17450981, 0.20294118],\n",
       "         [0.11078431, 0.14607844, 0.17352942]],\n",
       " \n",
       "        [[0.3879902 , 0.4879902 , 0.5154412 ],\n",
       "         [0.3867647 , 0.5022059 , 0.5357843 ],\n",
       "         [0.39828432, 0.53161764, 0.57892156],\n",
       "         ...,\n",
       "         [0.1509804 , 0.16960785, 0.20392157],\n",
       "         [0.14681372, 0.1742647 , 0.20563726],\n",
       "         [0.1127451 , 0.14803922, 0.18333334]]], dtype=float32),\n",
       " array([[[0.        , 0.        , 0.        ],\n",
       "         [0.        , 0.        , 0.        ],\n",
       "         [0.        , 0.        , 0.        ],\n",
       "         ...,\n",
       "         [0.        , 0.        , 0.        ],\n",
       "         [0.        , 0.        , 0.        ],\n",
       "         [0.        , 0.        , 0.        ]],\n",
       " \n",
       "        [[0.        , 0.        , 0.        ],\n",
       "         [0.        , 0.        , 0.        ],\n",
       "         [0.        , 0.        , 0.        ],\n",
       "         ...,\n",
       "         [0.        , 0.        , 0.        ],\n",
       "         [0.        , 0.        , 0.        ],\n",
       "         [0.        , 0.        , 0.        ]],\n",
       " \n",
       "        [[0.        , 0.        , 0.        ],\n",
       "         [0.        , 0.        , 0.        ],\n",
       "         [0.        , 0.        , 0.        ],\n",
       "         ...,\n",
       "         [0.        , 0.        , 0.        ],\n",
       "         [0.        , 0.        , 0.        ],\n",
       "         [0.        , 0.        , 0.        ]],\n",
       " \n",
       "        ...,\n",
       " \n",
       "        [[0.        , 0.        , 0.        ],\n",
       "         [0.        , 0.00392157, 0.        ],\n",
       "         [0.        , 0.00392157, 0.        ],\n",
       "         ...,\n",
       "         [0.64166665, 0.32009804, 0.3272059 ],\n",
       "         [0.70098037, 0.22058824, 0.21544118],\n",
       "         [0.8713235 , 0.2867647 , 0.24289216]],\n",
       " \n",
       "        [[0.        , 0.        , 0.        ],\n",
       "         [0.        , 0.00392157, 0.        ],\n",
       "         [0.        , 0.00392157, 0.        ],\n",
       "         ...,\n",
       "         [0.9482843 , 0.74852943, 0.7612745 ],\n",
       "         [0.6066176 , 0.23921569, 0.2375    ],\n",
       "         [0.79240197, 0.29264706, 0.25931373]],\n",
       " \n",
       "        [[0.        , 0.        , 0.        ],\n",
       "         [0.        , 0.00392157, 0.        ],\n",
       "         [0.        , 0.00392157, 0.        ],\n",
       "         ...,\n",
       "         [0.98970586, 0.8215686 , 0.84142154],\n",
       "         [0.71789217, 0.38602942, 0.38504902],\n",
       "         [0.6987745 , 0.21740197, 0.18504901]]], dtype=float32),\n",
       " 0.0)"
      ]
     },
     "execution_count": 27,
     "metadata": {},
     "output_type": "execute_result"
    }
   ],
   "source": [
    "data_test.next()\n"
   ]
  },
  {
   "cell_type": "code",
   "execution_count": 28,
   "id": "0154bc60",
   "metadata": {},
   "outputs": [],
   "source": [
    "#training partition\n",
    "train_data = data.take(round(len(data)*.7))\n",
    "train_data = train_data.batch(16)\n",
    "train_data = train_data.prefetch(8)\n"
   ]
  },
  {
   "cell_type": "code",
   "execution_count": 29,
   "id": "dea5a410",
   "metadata": {},
   "outputs": [],
   "source": [
    "#test partition\n",
    "test_data = data.skip(round(len(data)*.7))\n",
    "test_data = data.take(round(len(data)*.3))\n",
    "test_data = test_data.batch(16)\n",
    "test_data = test_data.prefetch(8)\n"
   ]
  },
  {
   "cell_type": "code",
   "execution_count": null,
   "id": "6d954b93-3510-458b-b17f-e6722d937203",
   "metadata": {},
   "outputs": [],
   "source": []
  }
 ],
 "metadata": {
  "kernelspec": {
   "display_name": "Python 3 (ipykernel)",
   "language": "python",
   "name": "python3"
  },
  "language_info": {
   "codemirror_mode": {
    "name": "ipython",
    "version": 3
   },
   "file_extension": ".py",
   "mimetype": "text/x-python",
   "name": "python",
   "nbconvert_exporter": "python",
   "pygments_lexer": "ipython3",
   "version": "3.11.7"
  }
 },
 "nbformat": 4,
 "nbformat_minor": 5
}
