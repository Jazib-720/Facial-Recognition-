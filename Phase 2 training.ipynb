{
 "cells": [
  {
   "cell_type": "markdown",
   "id": "e5195b40-52b6-416b-b573-fc9f74a786a6",
   "metadata": {},
   "source": [
    "# Installation"
   ]
  },
  {
   "cell_type": "code",
   "execution_count": 2,
   "id": "179f6a54-402e-4c78-bb14-a669511247dc",
   "metadata": {},
   "outputs": [
    {
     "name": "stdout",
     "output_type": "stream",
     "text": [
      "Requirement already satisfied: tensorflow in c:\\programdata\\anaconda3\\lib\\site-packages (2.16.1)\n",
      "Requirement already satisfied: tensorflow-intel==2.16.1 in c:\\programdata\\anaconda3\\lib\\site-packages (from tensorflow) (2.16.1)\n",
      "Requirement already satisfied: absl-py>=1.0.0 in c:\\programdata\\anaconda3\\lib\\site-packages (from tensorflow-intel==2.16.1->tensorflow) (2.1.0)\n",
      "Requirement already satisfied: astunparse>=1.6.0 in c:\\programdata\\anaconda3\\lib\\site-packages (from tensorflow-intel==2.16.1->tensorflow) (1.6.3)\n",
      "Requirement already satisfied: flatbuffers>=23.5.26 in c:\\programdata\\anaconda3\\lib\\site-packages (from tensorflow-intel==2.16.1->tensorflow) (24.3.25)\n",
      "Requirement already satisfied: gast!=0.5.0,!=0.5.1,!=0.5.2,>=0.2.1 in c:\\programdata\\anaconda3\\lib\\site-packages (from tensorflow-intel==2.16.1->tensorflow) (0.5.4)\n",
      "Requirement already satisfied: google-pasta>=0.1.1 in c:\\programdata\\anaconda3\\lib\\site-packages (from tensorflow-intel==2.16.1->tensorflow) (0.2.0)\n",
      "Requirement already satisfied: h5py>=3.10.0 in c:\\programdata\\anaconda3\\lib\\site-packages (from tensorflow-intel==2.16.1->tensorflow) (3.11.0)\n",
      "Requirement already satisfied: libclang>=13.0.0 in c:\\programdata\\anaconda3\\lib\\site-packages (from tensorflow-intel==2.16.1->tensorflow) (18.1.1)\n",
      "Requirement already satisfied: ml-dtypes~=0.3.1 in c:\\programdata\\anaconda3\\lib\\site-packages (from tensorflow-intel==2.16.1->tensorflow) (0.3.2)\n",
      "Requirement already satisfied: opt-einsum>=2.3.2 in c:\\programdata\\anaconda3\\lib\\site-packages (from tensorflow-intel==2.16.1->tensorflow) (3.3.0)\n",
      "Requirement already satisfied: packaging in c:\\programdata\\anaconda3\\lib\\site-packages (from tensorflow-intel==2.16.1->tensorflow) (23.1)\n",
      "Requirement already satisfied: protobuf!=4.21.0,!=4.21.1,!=4.21.2,!=4.21.3,!=4.21.4,!=4.21.5,<5.0.0dev,>=3.20.3 in c:\\programdata\\anaconda3\\lib\\site-packages (from tensorflow-intel==2.16.1->tensorflow) (3.20.3)\n",
      "Requirement already satisfied: requests<3,>=2.21.0 in c:\\programdata\\anaconda3\\lib\\site-packages (from tensorflow-intel==2.16.1->tensorflow) (2.31.0)\n",
      "Requirement already satisfied: setuptools in c:\\programdata\\anaconda3\\lib\\site-packages (from tensorflow-intel==2.16.1->tensorflow) (68.2.2)\n",
      "Requirement already satisfied: six>=1.12.0 in c:\\programdata\\anaconda3\\lib\\site-packages (from tensorflow-intel==2.16.1->tensorflow) (1.16.0)\n",
      "Requirement already satisfied: termcolor>=1.1.0 in c:\\programdata\\anaconda3\\lib\\site-packages (from tensorflow-intel==2.16.1->tensorflow) (2.4.0)\n",
      "Requirement already satisfied: typing-extensions>=3.6.6 in c:\\programdata\\anaconda3\\lib\\site-packages (from tensorflow-intel==2.16.1->tensorflow) (4.9.0)\n",
      "Requirement already satisfied: wrapt>=1.11.0 in c:\\programdata\\anaconda3\\lib\\site-packages (from tensorflow-intel==2.16.1->tensorflow) (1.14.1)\n",
      "Requirement already satisfied: grpcio<2.0,>=1.24.3 in c:\\programdata\\anaconda3\\lib\\site-packages (from tensorflow-intel==2.16.1->tensorflow) (1.62.2)\n",
      "Requirement already satisfied: tensorboard<2.17,>=2.16 in c:\\programdata\\anaconda3\\lib\\site-packages (from tensorflow-intel==2.16.1->tensorflow) (2.16.2)\n",
      "Requirement already satisfied: keras>=3.0.0 in c:\\programdata\\anaconda3\\lib\\site-packages (from tensorflow-intel==2.16.1->tensorflow) (3.2.1)\n",
      "Requirement already satisfied: tensorflow-io-gcs-filesystem>=0.23.1 in c:\\programdata\\anaconda3\\lib\\site-packages (from tensorflow-intel==2.16.1->tensorflow) (0.31.0)\n",
      "Requirement already satisfied: numpy<2.0.0,>=1.23.5 in c:\\programdata\\anaconda3\\lib\\site-packages (from tensorflow-intel==2.16.1->tensorflow) (1.26.4)\n",
      "Requirement already satisfied: wheel<1.0,>=0.23.0 in c:\\programdata\\anaconda3\\lib\\site-packages (from astunparse>=1.6.0->tensorflow-intel==2.16.1->tensorflow) (0.41.2)\n",
      "Requirement already satisfied: rich in c:\\programdata\\anaconda3\\lib\\site-packages (from keras>=3.0.0->tensorflow-intel==2.16.1->tensorflow) (13.3.5)\n",
      "Requirement already satisfied: namex in c:\\programdata\\anaconda3\\lib\\site-packages (from keras>=3.0.0->tensorflow-intel==2.16.1->tensorflow) (0.0.8)\n",
      "Requirement already satisfied: optree in c:\\programdata\\anaconda3\\lib\\site-packages (from keras>=3.0.0->tensorflow-intel==2.16.1->tensorflow) (0.11.0)\n",
      "Requirement already satisfied: charset-normalizer<4,>=2 in c:\\programdata\\anaconda3\\lib\\site-packages (from requests<3,>=2.21.0->tensorflow-intel==2.16.1->tensorflow) (2.0.4)\n",
      "Requirement already satisfied: idna<4,>=2.5 in c:\\programdata\\anaconda3\\lib\\site-packages (from requests<3,>=2.21.0->tensorflow-intel==2.16.1->tensorflow) (3.4)\n",
      "Requirement already satisfied: urllib3<3,>=1.21.1 in c:\\programdata\\anaconda3\\lib\\site-packages (from requests<3,>=2.21.0->tensorflow-intel==2.16.1->tensorflow) (2.0.7)\n",
      "Requirement already satisfied: certifi>=2017.4.17 in c:\\programdata\\anaconda3\\lib\\site-packages (from requests<3,>=2.21.0->tensorflow-intel==2.16.1->tensorflow) (2024.2.2)\n",
      "Requirement already satisfied: markdown>=2.6.8 in c:\\programdata\\anaconda3\\lib\\site-packages (from tensorboard<2.17,>=2.16->tensorflow-intel==2.16.1->tensorflow) (3.4.1)\n",
      "Requirement already satisfied: tensorboard-data-server<0.8.0,>=0.7.0 in c:\\programdata\\anaconda3\\lib\\site-packages (from tensorboard<2.17,>=2.16->tensorflow-intel==2.16.1->tensorflow) (0.7.2)\n",
      "Requirement already satisfied: werkzeug>=1.0.1 in c:\\programdata\\anaconda3\\lib\\site-packages (from tensorboard<2.17,>=2.16->tensorflow-intel==2.16.1->tensorflow) (2.2.3)\n",
      "Requirement already satisfied: MarkupSafe>=2.1.1 in c:\\programdata\\anaconda3\\lib\\site-packages (from werkzeug>=1.0.1->tensorboard<2.17,>=2.16->tensorflow-intel==2.16.1->tensorflow) (2.1.3)\n",
      "Requirement already satisfied: markdown-it-py<3.0.0,>=2.2.0 in c:\\programdata\\anaconda3\\lib\\site-packages (from rich->keras>=3.0.0->tensorflow-intel==2.16.1->tensorflow) (2.2.0)\n",
      "Requirement already satisfied: pygments<3.0.0,>=2.13.0 in c:\\programdata\\anaconda3\\lib\\site-packages (from rich->keras>=3.0.0->tensorflow-intel==2.16.1->tensorflow) (2.15.1)\n",
      "Requirement already satisfied: mdurl~=0.1 in c:\\programdata\\anaconda3\\lib\\site-packages (from markdown-it-py<3.0.0,>=2.2.0->rich->keras>=3.0.0->tensorflow-intel==2.16.1->tensorflow) (0.1.0)\n"
     ]
    }
   ],
   "source": [
    "!pip install tensorflow"
   ]
  },
  {
   "cell_type": "code",
   "execution_count": 4,
   "id": "aa600c0a-0ba2-4f54-aea0-18f8ceb42b8f",
   "metadata": {},
   "outputs": [
    {
     "name": "stdout",
     "output_type": "stream",
     "text": [
      "Requirement already satisfied: opencv-python in c:\\programdata\\anaconda3\\lib\\site-packages (4.9.0.80)\n",
      "Requirement already satisfied: numpy>=1.21.2 in c:\\programdata\\anaconda3\\lib\\site-packages (from opencv-python) (1.26.4)\n",
      "Note: you may need to restart the kernel to use updated packages.\n"
     ]
    }
   ],
   "source": [
    "pip install opencv-python\n"
   ]
  },
  {
   "cell_type": "code",
   "execution_count": 6,
   "id": "4fa13199-ba01-4148-9697-3cc6e8d74fce",
   "metadata": {},
   "outputs": [],
   "source": [
    "import cv2\n",
    "import os\n",
    "import random\n",
    "import numpy as np\n",
    "from matplotlib import pyplot as plt"
   ]
  },
  {
   "cell_type": "code",
   "execution_count": 7,
   "id": "5c456df1-b6bb-4c3d-b566-15d700dd90aa",
   "metadata": {},
   "outputs": [],
   "source": [
    "#functional Api\n",
    "from tensorflow.keras.models import Model\n",
    "from tensorflow.keras.layers import Layer, Conv2D, Dense, MaxPooling2D, Input, Flatten\n",
    "import tensorflow as tf"
   ]
  },
  {
   "cell_type": "markdown",
   "id": "60f091d7-3a20-4201-8e4c-1a44b719ee3e",
   "metadata": {},
   "source": [
    "#FOR GPU GROWTH SETUP"
   ]
  },
  {
   "cell_type": "code",
   "execution_count": 9,
   "id": "3f2f9ce0-0322-40de-90ad-db3c4f3818b4",
   "metadata": {},
   "outputs": [],
   "source": [
    "# Prevent Out-of-Memory errors by adjusting GPU Memory Consumption Growth\n",
    "available_gpus = tf.config.experimental.list_physical_devices('GPU')\n",
    "for device in available_gpus: \n",
    "    tf.config.experimental.set_memory_growth(device, True)"
   ]
  },
  {
   "cell_type": "code",
   "execution_count": 11,
   "id": "391d2762-c93f-42a0-9200-c44fc7df5aa9",
   "metadata": {},
   "outputs": [
    {
     "name": "stdout",
     "output_type": "stream",
     "text": [
      "[]\n"
     ]
    }
   ],
   "source": [
    "print(available_gpus)"
   ]
  },
  {
   "cell_type": "code",
   "execution_count": 3,
   "id": "1c6dcb01-29c7-4cce-984a-4eb28ab28e1b",
   "metadata": {},
   "outputs": [],
   "source": [
    "POS_PATH = os.path.join('data','positive')\n",
    "NEG_PATH = os.path.join('data','negative')\n",
    "ANC_PATH = os.path.join('data','anchor')"
   ]
  },
  {
   "cell_type": "code",
   "execution_count": 4,
   "id": "9cd1409a-8aa5-42f2-af20-f8436168666e",
   "metadata": {
    "scrolled": true
   },
   "outputs": [
    {
     "ename": "FileExistsError",
     "evalue": "[WinError 183] Cannot create a file when that file already exists: 'data\\\\positive'",
     "output_type": "error",
     "traceback": [
      "\u001b[1;31m---------------------------------------------------------------------------\u001b[0m",
      "\u001b[1;31mFileExistsError\u001b[0m                           Traceback (most recent call last)",
      "Cell \u001b[1;32mIn[4], line 1\u001b[0m\n\u001b[1;32m----> 1\u001b[0m os\u001b[38;5;241m.\u001b[39mmakedirs(POS_PATH)\n\u001b[0;32m      2\u001b[0m os\u001b[38;5;241m.\u001b[39mmakedirs(NEG_PATH)\n\u001b[0;32m      3\u001b[0m os\u001b[38;5;241m.\u001b[39mmakedirs(ANC_PATH)\n",
      "File \u001b[1;32m<frozen os>:225\u001b[0m, in \u001b[0;36mmakedirs\u001b[1;34m(name, mode, exist_ok)\u001b[0m\n",
      "\u001b[1;31mFileExistsError\u001b[0m: [WinError 183] Cannot create a file when that file already exists: 'data\\\\positive'"
     ]
    }
   ],
   "source": [
    "os.makedirs(POS_PATH)\n",
    "os.makedirs(NEG_PATH)\n",
    "os.makedirs(ANC_PATH)\n"
   ]
  },
  {
   "cell_type": "code",
   "execution_count": 5,
   "id": "da9a4a02-b4ef-478c-85d8-ff5eea50e234",
   "metadata": {},
   "outputs": [],
   "source": [
    "#unzipping labeblled faces in dataset\n",
    "!tar -xf lfw.tgz"
   ]
  },
  {
   "cell_type": "code",
   "execution_count": 6,
   "id": "3ee9b0c7-ac75-42be-aaf0-3aa91ca6444e",
   "metadata": {},
   "outputs": [],
   "source": [
    "#now move dataset to negative folder using python code (filtering)\n",
    "\n",
    "import os\n",
    "\n",
    "for folder in os.listdir('lfw'):\n",
    "    for image_file in os.listdir(os.path.join('lfw', folder)):\n",
    "        existing_path = os.path.join('lfw', folder, image_file)\n",
    "        new_path = os.path.join(NEG_PATH, image_file)\n",
    "        os.replace(existing_path, new_path)\n",
    "\n",
    "\n",
    "\n",
    "\n"
   ]
  },
  {
   "cell_type": "code",
   "execution_count": 7,
   "id": "a4f74104-5850-4ad4-aa35-79c1552229f9",
   "metadata": {},
   "outputs": [],
   "source": [
    "#check directories\n",
    "for folder in os.listdir('lfw'):\n",
    "    for file in os.listdir(os.path.join('lfw', folder)):\n",
    "        print(os.path.join('lfw', folder, file))\n",
    "        print(os.path.join(NEG_PATH, file))\n",
    "        \n",
    "       \n"
   ]
  },
  {
   "cell_type": "raw",
   "id": "4d5f451f-24a7-43ab-86be-bab762b07520",
   "metadata": {},
   "source": [
    "i have deleted folder lfw after all extraction and checking after collection of negative collect positive and anchors via webcam"
   ]
  },
  {
   "cell_type": "markdown",
   "id": "e2b8f28d-4814-4cb2-99e2-c4f7d35029b5",
   "metadata": {},
   "source": [
    "## collecting positive and anchors via webcam"
   ]
  },
  {
   "cell_type": "code",
   "execution_count": 54,
   "id": "51d41a31-8ec5-4d04-9735-0b02d0e22960",
   "metadata": {},
   "outputs": [
    {
     "data": {
      "text/plain": [
       "'138534e7-fe91-11ee-aa3c-f8da0c4746aa.jpg'"
      ]
     },
     "execution_count": 54,
     "metadata": {},
     "output_type": "execute_result"
    }
   ],
   "source": [
    "import uuid  #for unique image name\n",
    "#testing it\n",
    "'{}.jpg'.format(uuid.uuid1())\n"
   ]
  },
  {
   "cell_type": "code",
   "execution_count": 8,
   "id": "49143422-9f09-4b3b-8b2b-441cbe8ac42e",
   "metadata": {},
   "outputs": [],
   "source": [
    "import cv2\n",
    "import os\n",
    "import uuid\n",
    "\n",
    "#connection establish\n",
    "cap = cv2.VideoCapture(0)\n",
    "while cap.isOpened(): \n",
    "    ret, frame = cap.read()\n",
    "   \n",
    "    # Cut frame to 250x250px\n",
    "    frame = frame[120:120+250,200:200+250, :]\n",
    "    \n",
    "    # anchor collections \n",
    "    if cv2.waitKey(1) & 0XFF == ord('a'):    # Wait for 'a' key press to collect anchor\n",
    "         \n",
    "        imgname = os.path.join(ANC_PATH, '{}.jpg'.format(uuid.uuid1()))  # for uniq file name\n",
    "         # Save anchor image\n",
    "        cv2.imwrite(imgname, frame)\n",
    "    \n",
    "    # Collect positives\n",
    "    if cv2.waitKey(1) & 0XFF == ord('p'):  # Wait for 'p' key press to collect postives\n",
    "        # Create the unique file path \n",
    "        imgname = os.path.join(POS_PATH, '{}.jpg'.format(uuid.uuid1()))\n",
    "        # Save anchor image\n",
    "        cv2.imwrite(imgname, frame)\n",
    "    \n",
    "    # Show image back to screen\n",
    "    cv2.imshow('Image Collection', frame)\n",
    "    \n",
    "    # Breaking gracefully\n",
    "    if cv2.waitKey(1) & 0XFF == ord('q'):     # Wait for 'q' key press to quit\n",
    "        break\n",
    "        \n",
    "\n",
    "cap.release()\n",
    "# Closew frame\n",
    "cv2.destroyAllWindows()"
   ]
  },
  {
   "cell_type": "code",
   "execution_count": 9,
   "id": "b833afde-44d7-4c30-85ef-a654c19ed5bf",
   "metadata": {},
   "outputs": [],
   "source": [
    "#for getig image directory(creates pipline for diffrerent files path)\n",
    "import tensorflow as tf\n",
    "\n",
    "anchor = tf.data.Dataset.list_files(ANC_PATH+'\\*.jpg').take(300) #grab with extension jpg\n",
    "positive = tf.data.Dataset.list_files(POS_PATH+'\\*.jpg').take(300)\n",
    "negative = tf.data.Dataset.list_files(NEG_PATH+'\\*.jpg').take(300)"
   ]
  },
  {
   "cell_type": "code",
   "execution_count": 11,
   "id": "63afa4d2-0ec8-4e76-b609-cc63c8384019",
   "metadata": {},
   "outputs": [
    {
     "data": {
      "text/plain": [
       "'data\\\\anchor\\\\*.jpg'"
      ]
     },
     "execution_count": 11,
     "metadata": {},
     "output_type": "execute_result"
    }
   ],
   "source": [
    "ANC_PATH +'\\*.jpg'"
   ]
  },
  {
   "cell_type": "code",
   "execution_count": 17,
   "id": "40d438b1-073b-4ae2-bcab-d61715009964",
   "metadata": {},
   "outputs": [],
   "source": [
    "# Create an iterator for the anchor dataset\n",
    "anchor_iterator = anchor.as_numpy_iterator()\n"
   ]
  },
  {
   "cell_type": "code",
   "execution_count": 18,
   "id": "b78f027e-5cc2-46c2-a5d6-13d87dbe5102",
   "metadata": {},
   "outputs": [],
   "source": [
    "# Create an iterator for the positive dataset\n",
    "positive_iterator = positive.as_numpy_iterator()\n",
    "\n",
    "\n"
   ]
  },
  {
   "cell_type": "code",
   "execution_count": 27,
   "id": "93a8fb61-80bd-41d0-b2c4-4aee8a7f8142",
   "metadata": {},
   "outputs": [
    {
     "name": "stdout",
     "output_type": "stream",
     "text": [
      "b'data\\\\anchor\\\\6494623d-fe95-11ee-a9f7-f8da0c4746aa.jpg'\n"
     ]
    }
   ],
   "source": [
    "# Get the next element from the iterator\n",
    "next_anchor = anchor_iterator.next()\n",
    "print(next_anchor)"
   ]
  },
  {
   "cell_type": "code",
   "execution_count": 26,
   "id": "92c913cd-3f6d-4917-baf8-d44a0389fcd4",
   "metadata": {},
   "outputs": [
    {
     "name": "stdout",
     "output_type": "stream",
     "text": [
      "b'data\\\\positive\\\\94b7ac12-fe95-11ee-b1f8-f8da0c4746aa.jpg'\n"
     ]
    }
   ],
   "source": [
    "# Get the next element from the iterator\n",
    "next_positive = positive_iterator.next()\n",
    "print(next_positive)"
   ]
  },
  {
   "cell_type": "markdown",
   "id": "2b40df34-c775-42d8-89f1-13cef7d99fe2",
   "metadata": {},
   "source": [
    "#Preprocessing"
   ]
  },
  {
   "cell_type": "code",
   "execution_count": 28,
   "id": "8ecfa673-2838-4508-b367-f0dec38df8eb",
   "metadata": {},
   "outputs": [],
   "source": [
    "import tensorflow as tf\n",
    "\n",
    "def preprocess_image(file_path):\n",
    "    # Read image from file path\n",
    "    image_bytes = tf.io.read_file(file_path)\n",
    "    \n",
    "    # Decode JPEG image\n",
    "    image = tf.io.decode_jpeg(image_bytes)\n",
    "    \n",
    "    # Resize image to 100x100x3\n",
    "    image = tf.image.resize(image, (100, 100))\n",
    "    \n",
    "    # Scale image to be between 0 and 1\n",
    "    image = image / 255.0\n",
    "    \n",
    "    return image\n"
   ]
  },
  {
   "cell_type": "code",
   "execution_count": 40,
   "id": "dd670eb6-3a6f-441e-bf89-0b8e224e7975",
   "metadata": {},
   "outputs": [],
   "source": [
    "image = preprocess_image(r'data\\\\anchor\\\\60a31ed8-fe95-11ee-b3d4-f8da0c4746aa.jpg')\n"
   ]
  },
  {
   "cell_type": "code",
   "execution_count": 41,
   "id": "8938d2db-9492-4ed1-8f40-d232a378ff6b",
   "metadata": {},
   "outputs": [
    {
     "data": {
      "text/plain": [
       "<matplotlib.image.AxesImage at 0x1cd7838de90>"
      ]
     },
     "execution_count": 41,
     "metadata": {},
     "output_type": "execute_result"
    },
    {
     "data": {
      "image/png": "[encoded data removed]",
      "text/plain": [
       "<Figure size 640x480 with 1 Axes>"
      ]
     },
     "metadata": {},
     "output_type": "display_data"
    }
   ],
   "source": [
    "import matplotlib.pyplot as plt\n",
    "plt.imshow(image)"
   ]
  },
  {
   "cell_type": "code",
   "execution_count": 46,
   "id": "04861893-f323-4c12-9515-5bf6ccff7cbb",
   "metadata": {},
   "outputs": [],
   "source": [
    "#for creating labelled dataset\n",
    "positive_samples = tf.data.Dataset.zip((anchor, positive, tf.data.Dataset.from_tensor_slices(tf.ones(len(anchor)))))\n",
    "negative_samples = tf.data.Dataset.zip((anchor, negative, tf.data.Dataset.from_tensor_slices(tf.zeros(len(anchor)))))\n",
    "data = positive_samples.concatenate(negative_samples)"
   ]
  },
  {
   "cell_type": "code",
   "execution_count": 47,
   "id": "3994e23f-f414-46df-88e1-eee60e453183",
   "metadata": {},
   "outputs": [
    {
     "data": {
      "text/plain": [
       "<tf.Tensor: shape=(265,), dtype=float32, numpy=\n",
       "array([1., 1., 1., 1., 1., 1., 1., 1., 1., 1., 1., 1., 1., 1., 1., 1., 1.,\n",
       "       1., 1., 1., 1., 1., 1., 1., 1., 1., 1., 1., 1., 1., 1., 1., 1., 1.,\n",
       "       1., 1., 1., 1., 1., 1., 1., 1., 1., 1., 1., 1., 1., 1., 1., 1., 1.,\n",
       "       1., 1., 1., 1., 1., 1., 1., 1., 1., 1., 1., 1., 1., 1., 1., 1., 1.,\n",
       "       1., 1., 1., 1., 1., 1., 1., 1., 1., 1., 1., 1., 1., 1., 1., 1., 1.,\n",
       "       1., 1., 1., 1., 1., 1., 1., 1., 1., 1., 1., 1., 1., 1., 1., 1., 1.,\n",
       "       1., 1., 1., 1., 1., 1., 1., 1., 1., 1., 1., 1., 1., 1., 1., 1., 1.,\n",
       "       1., 1., 1., 1., 1., 1., 1., 1., 1., 1., 1., 1., 1., 1., 1., 1., 1.,\n",
       "       1., 1., 1., 1., 1., 1., 1., 1., 1., 1., 1., 1., 1., 1., 1., 1., 1.,\n",
       "       1., 1., 1., 1., 1., 1., 1., 1., 1., 1., 1., 1., 1., 1., 1., 1., 1.,\n",
       "       1., 1., 1., 1., 1., 1., 1., 1., 1., 1., 1., 1., 1., 1., 1., 1., 1.,\n",
       "       1., 1., 1., 1., 1., 1., 1., 1., 1., 1., 1., 1., 1., 1., 1., 1., 1.,\n",
       "       1., 1., 1., 1., 1., 1., 1., 1., 1., 1., 1., 1., 1., 1., 1., 1., 1.,\n",
       "       1., 1., 1., 1., 1., 1., 1., 1., 1., 1., 1., 1., 1., 1., 1., 1., 1.,\n",
       "       1., 1., 1., 1., 1., 1., 1., 1., 1., 1., 1., 1., 1., 1., 1., 1., 1.,\n",
       "       1., 1., 1., 1., 1., 1., 1., 1., 1., 1.], dtype=float32)>"
      ]
     },
     "execution_count": 47,
     "metadata": {},
     "output_type": "execute_result"
    }
   ],
   "source": [
    "tf.ones(len(anchor))\n"
   ]
  },
  {
   "cell_type": "code",
   "execution_count": 49,
   "id": "6d5e4104-a1da-4596-b1ce-a20b6c5cc819",
   "metadata": {},
   "outputs": [
    {
     "name": "stdout",
     "output_type": "stream",
     "text": [
      "(b'data\\\\anchor\\\\3ec8e945-ffaf-11ee-bcf7-d481d7e9b3fd.jpg', b'data\\\\positive\\\\93deb8c4-fe95-11ee-9b68-f8da0c4746aa.jpg', 1.0)\n"
     ]
    }
   ],
   "source": [
    "# Create an iterator for the dataset\n",
    "samples_iterator = data.as_numpy_iterator()\n",
    "\n",
    "# Get the next element from the iterator\n",
    "next_sample = samples_iterator.next()\n",
    "\n",
    "# Print the next sample\n",
    "print(next_sample)\n",
    "# at last 1 written in output shows its an example of positie image"
   ]
  },
  {
   "cell_type": "code",
   "execution_count": 50,
   "id": "d32044e6-65dd-4091-b9f5-40a2fc1f2267",
   "metadata": {},
   "outputs": [],
   "source": [
    "def preprocess_twin(anchor_img, validation_img, label):\n",
    "    \"\"\"\n",
    "    Preprocesses the anchor and validation images and returns them with the label.\n",
    "\n",
    "    - anchor_img: The anchor image to be preprocessed.\n",
    "    - validation_img: The validation image to be preprocessed.\n",
    "    - label: The label associated with the images.\n",
    "\n",
    "    Returns:\n",
    "    A tuple containing the preprocessed anchor image, preprocessed validation image, and label.\n",
    "    \"\"\"\n",
    "    # Preprocess the anchor and validation images\n",
    "    preprocessed_anchor = preprocess_image(anchor_img)\n",
    "    preprocessed_validation = preprocess_image(validation_img)\n",
    "    \n",
    "    # Return the preprocessed images along with the label\n",
    "    return (preprocessed_anchor, preprocessed_validation, label)\n"
   ]
  },
  {
   "cell_type": "code",
   "execution_count": 51,
   "id": "a34f2462-0bc1-4a43-b38e-cc710fe486a6",
   "metadata": {},
   "outputs": [],
   "source": [
    "  result = preprocess_twin(*next_sample)"
   ]
  },
  {
   "cell_type": "code",
   "execution_count": 56,
   "id": "77fc80b3-ab8c-42fb-94a3-646cc8dc3349",
   "metadata": {},
   "outputs": [
    {
     "data": {
      "text/plain": [
       "(<tf.Tensor: shape=(100, 100, 3), dtype=float32, numpy=\n",
       " array([[[0.16838235, 0.17230392, 0.1487745 ],\n",
       "         [0.12058824, 0.12254902, 0.11568628],\n",
       "         [0.06470589, 0.07745098, 0.08235294],\n",
       "         ...,\n",
       "         [0.7470588 , 0.7392157 , 0.7509804 ],\n",
       "         [0.76666665, 0.7588235 , 0.7705882 ],\n",
       "         [0.7794118 , 0.77156866, 0.78333336]],\n",
       " \n",
       "        [[0.13210784, 0.1360294 , 0.1125    ],\n",
       "         [0.08995098, 0.09754902, 0.09044117],\n",
       "         [0.05857843, 0.07205883, 0.07818627],\n",
       "         ...,\n",
       "         [0.7656863 , 0.75784314, 0.77009803],\n",
       "         [0.78039217, 0.77254903, 0.79068625],\n",
       "         [0.7892157 , 0.78039217, 0.80196077]],\n",
       " \n",
       "        [[0.08995098, 0.09681372, 0.07696079],\n",
       "         [0.06764706, 0.07745098, 0.0754902 ],\n",
       "         [0.04289216, 0.05857843, 0.06838235],\n",
       "         ...,\n",
       "         [0.78455883, 0.78186274, 0.79338235],\n",
       "         [0.7889706 , 0.78406864, 0.80588233],\n",
       "         [0.79607844, 0.79019606, 0.8147059 ]],\n",
       " \n",
       "        ...,\n",
       " \n",
       "        [[0.27818626, 0.3252451 , 0.41151962],\n",
       "         [0.26862746, 0.3245098 , 0.40784314],\n",
       "         [0.25735295, 0.3154412 , 0.40392157],\n",
       "         ...,\n",
       "         [0.99607843, 0.99607843, 0.99607843],\n",
       "         [0.99607843, 0.99607843, 0.99607843],\n",
       "         [0.99607843, 0.99607843, 0.99607843]],\n",
       " \n",
       "        [[0.27156863, 0.31862745, 0.40490195],\n",
       "         [0.27058825, 0.31764707, 0.40392157],\n",
       "         [0.2632353 , 0.3125    , 0.39950982],\n",
       "         ...,\n",
       "         [0.99607843, 0.99607843, 0.99607843],\n",
       "         [0.99607843, 0.99607843, 0.99607843],\n",
       "         [0.99607843, 0.99607843, 0.99607843]],\n",
       " \n",
       "        [[0.2784314 , 0.3254902 , 0.4117647 ],\n",
       "         [0.26568627, 0.3127451 , 0.3990196 ],\n",
       "         [0.2620098 , 0.30906862, 0.39534312],\n",
       "         ...,\n",
       "         [0.99607843, 0.99607843, 0.99607843],\n",
       "         [0.99607843, 0.99607843, 0.99607843],\n",
       "         [0.99607843, 0.99607843, 0.99607843]]], dtype=float32)>,\n",
       " <tf.Tensor: shape=(100, 100, 3), dtype=float32, numpy=\n",
       " array([[[0.672549  , 0.63235295, 0.6392157 ],\n",
       "         [0.5392157 , 0.5107843 , 0.49607843],\n",
       "         [0.4642157 , 0.45735294, 0.39362746],\n",
       "         ...,\n",
       "         [0.4639706 , 0.43210784, 0.39509803],\n",
       "         [0.38308823, 0.36887255, 0.325     ],\n",
       "         [0.33039215, 0.32377452, 0.2901961 ]],\n",
       " \n",
       "        [[0.7019608 , 0.6666667 , 0.672549  ],\n",
       "         [0.48578432, 0.46053922, 0.44215685],\n",
       "         [0.4629902 , 0.45612746, 0.389951  ],\n",
       "         ...,\n",
       "         [0.4110294 , 0.3737745 , 0.33161765],\n",
       "         [0.35441175, 0.33088234, 0.28333333],\n",
       "         [0.33186275, 0.31691176, 0.2752451 ]],\n",
       " \n",
       "        [[0.7441176 , 0.7198529 , 0.72205883],\n",
       "         [0.4622549 , 0.44877452, 0.4259804 ],\n",
       "         [0.4227941 , 0.41740197, 0.34607843],\n",
       "         ...,\n",
       "         [0.4014706 , 0.3622549 , 0.31960785],\n",
       "         [0.35416666, 0.32867646, 0.28063726],\n",
       "         [0.34705883, 0.33137256, 0.2882353 ]],\n",
       " \n",
       "        ...,\n",
       " \n",
       "        [[0.51887256, 0.49534315, 0.5031863 ],\n",
       "         [0.57058823, 0.5470588 , 0.55490196],\n",
       "         [0.5659314 , 0.54240197, 0.5561274 ],\n",
       "         ...,\n",
       "         [0.28161764, 0.28455883, 0.22769608],\n",
       "         [0.26544118, 0.2617647 , 0.20514706],\n",
       "         [0.26519608, 0.2632353 , 0.19656862]],\n",
       " \n",
       "        [[0.53112745, 0.50759804, 0.5213235 ],\n",
       "         [0.5644608 , 0.54093134, 0.5487745 ],\n",
       "         [0.5539216 , 0.532598  , 0.54632354],\n",
       "         ...,\n",
       "         [0.3752451 , 0.37426472, 0.3762255 ],\n",
       "         [0.33161765, 0.33063725, 0.33186275],\n",
       "         [0.30392158, 0.29803923, 0.29313725]],\n",
       " \n",
       "        [[0.54019606, 0.51666665, 0.5323529 ],\n",
       "         [0.5568628 , 0.53431374, 0.55      ],\n",
       "         [0.5362745 , 0.51666665, 0.5323529 ],\n",
       "         ...,\n",
       "         [0.39411765, 0.38627452, 0.42990196],\n",
       "         [0.37034315, 0.3625    , 0.4127451 ],\n",
       "         [0.38235295, 0.3735294 , 0.42843136]]], dtype=float32)>,\n",
       " 1.0)"
      ]
     },
     "execution_count": 56,
     "metadata": {},
     "output_type": "execute_result"
    }
   ],
   "source": [
    "result #100 by 100 pixel through 3 channels"
   ]
  },
  {
   "cell_type": "code",
   "execution_count": 55,
   "id": "352b8498-10b6-4977-880c-bbeab0804639",
   "metadata": {},
   "outputs": [
    {
     "data": {
      "text/plain": [
       "3"
      ]
     },
     "execution_count": 55,
     "metadata": {},
     "output_type": "execute_result"
    }
   ],
   "source": [
    "len(result)"
   ]
  },
  {
   "cell_type": "code",
   "execution_count": 53,
   "id": "27a60bdf-7b88-4141-8482-ce9ce8870042",
   "metadata": {},
   "outputs": [
    {
     "data": {
      "text/plain": [
       "<matplotlib.image.AxesImage at 0x1cd7c9b8990>"
      ]
     },
     "execution_count": 53,
     "metadata": {},
     "output_type": "execute_result"
    },
    {
     "data": {
      "image/png": "[encoded data removed]",
      "text/plain": [
       "<Figure size 640x480 with 1 Axes>"
      ]
     },
     "metadata": {},
     "output_type": "display_data"
    }
   ],
   "source": [
    "plt.imshow(result[1])"
   ]
  },
  {
   "cell_type": "code",
   "execution_count": 59,
   "id": "c878ad8b-16cd-4e4e-ba31-e6623facfcc3",
   "metadata": {},
   "outputs": [],
   "source": [
    "# applying this to data\n",
    "\n",
    "# DataLoader Pipeline\n",
    "processed_data = data.map(preprocess_twin)  # Apply preprocess_twin function to each sample\n",
    "processed_data = processed_data.cache()     # Cache the preprocessed data for faster retrieval\n",
    "processed_data = processed_data.shuffle(buffer_size=1024)  # Shuffle the data with a buffer size of 1024\n",
    "\n",
    "\n",
    "\n"
   ]
  },
  {
   "cell_type": "code",
   "execution_count": 64,
   "id": "a21395db-1620-4aa0-b23d-6dd543809c6a",
   "metadata": {},
   "outputs": [],
   "source": [
    "samples=processed_data.as_numpy_iterator()"
   ]
  },
  {
   "cell_type": "code",
   "execution_count": 66,
   "id": "75f2d26e-4fe9-4810-a97b-a2e4f92663c2",
   "metadata": {},
   "outputs": [
    {
     "data": {
      "text/plain": [
       "3"
      ]
     },
     "execution_count": 66,
     "metadata": {},
     "output_type": "execute_result"
    }
   ],
   "source": [
    "len(samples.next())"
   ]
  },
  {
   "cell_type": "code",
   "execution_count": 67,
   "id": "be3cdc42-8071-46a8-9383-2acf52d9cb03",
   "metadata": {},
   "outputs": [
    {
     "data": {
      "text/plain": [
       "array([[[0.45294118, 0.41764706, 0.42156863],\n",
       "        [0.52009803, 0.5056372 , 0.5137255 ],\n",
       "        [0.6377451 , 0.63284314, 0.6612745 ],\n",
       "        ...,\n",
       "        [0.6637255 , 0.64215684, 0.6666667 ],\n",
       "        [0.67009807, 0.6367647 , 0.65833336],\n",
       "        [0.5561274 , 0.5208333 , 0.54044116]],\n",
       "\n",
       "       [[0.47720587, 0.4507353 , 0.45367646],\n",
       "        [0.5083333 , 0.49166667, 0.5083333 ],\n",
       "        [0.6107843 , 0.60588235, 0.6343137 ],\n",
       "        ...,\n",
       "        [0.6514706 , 0.6406863 , 0.65931374],\n",
       "        [0.65906864, 0.6365196 , 0.6507353 ],\n",
       "        [0.5411765 , 0.5088235 , 0.51960784]],\n",
       "\n",
       "       [[0.49656862, 0.47230393, 0.4862745 ],\n",
       "        [0.48431373, 0.46764705, 0.48431373],\n",
       "        [0.5355392 , 0.5252451 , 0.55784315],\n",
       "        ...,\n",
       "        [0.64705884, 0.6406863 , 0.65857846],\n",
       "        [0.6507353 , 0.63480395, 0.64166665],\n",
       "        [0.55857843, 0.535049  , 0.54289216]],\n",
       "\n",
       "       ...,\n",
       "\n",
       "       [[0.29828432, 0.29803923, 0.26740196],\n",
       "        [0.3156863 , 0.31642157, 0.26789215],\n",
       "        [0.2997549 , 0.29632354, 0.24362744],\n",
       "        ...,\n",
       "        [0.39142156, 0.4090686 , 0.45808825],\n",
       "        [0.36960784, 0.3872549 , 0.4362745 ],\n",
       "        [0.35955882, 0.37426472, 0.43406862]],\n",
       "\n",
       "       [[0.3       , 0.29607844, 0.2764706 ],\n",
       "        [0.30686274, 0.30686274, 0.26764706],\n",
       "        [0.30122548, 0.30122548, 0.26004902],\n",
       "        ...,\n",
       "        [0.4134804 , 0.4370098 , 0.49779412],\n",
       "        [0.41495097, 0.43553922, 0.50710785],\n",
       "        [0.40857843, 0.42916667, 0.5007353 ]],\n",
       "\n",
       "       [[0.27769607, 0.2737745 , 0.25416666],\n",
       "        [0.26764706, 0.27156863, 0.24019608],\n",
       "        [0.27622548, 0.28014705, 0.2502451 ],\n",
       "        ...,\n",
       "        [0.44411764, 0.45490196, 0.53137255],\n",
       "        [0.4480392 , 0.45588234, 0.5382353 ],\n",
       "        [0.42647058, 0.44607842, 0.5245098 ]]], dtype=float32)"
      ]
     },
     "execution_count": 67,
     "metadata": {},
     "output_type": "execute_result"
    }
   ],
   "source": [
    "samples.next()[0]"
   ]
  },
  {
   "cell_type": "code",
   "execution_count": 76,
   "id": "9b710c74-c39d-4543-8feb-98650979964c",
   "metadata": {},
   "outputs": [],
   "source": [
    "sample_next=samples.next()"
   ]
  },
  {
   "cell_type": "code",
   "execution_count": 77,
   "id": "4532bb23-b9ec-4242-924e-3bc1e0f2353b",
   "metadata": {},
   "outputs": [
    {
     "data": {
      "text/plain": [
       "<matplotlib.image.AxesImage at 0x1cd04fe8090>"
      ]
     },
     "execution_count": 77,
     "metadata": {},
     "output_type": "execute_result"
    },
    {
     "data": {
      "image/png": "[encoded data removed]",
      "text/plain": [
       "<Figure size 640x480 with 1 Axes>"
      ]
     },
     "metadata": {},
     "output_type": "display_data"
    }
   ],
   "source": [
    "\n",
    "plt.imshow(sample_next[1])"
   ]
  },
  {
   "cell_type": "code",
   "execution_count": 78,
   "id": "b5fee431-794e-43f0-9796-6d1f651d85c2",
   "metadata": {},
   "outputs": [
    {
     "data": {
      "text/plain": [
       "0.0"
      ]
     },
     "execution_count": 78,
     "metadata": {},
     "output_type": "execute_result"
    }
   ],
   "source": [
    "sample_next[2]  # label should be 0 for negativr image it means we re going in right way"
   ]
  },
  {
   "cell_type": "code",
   "execution_count": 79,
   "id": "29660ccf-7d25-4e68-82b4-74adb80ee852",
   "metadata": {},
   "outputs": [
    {
     "data": {
      "text/plain": [
       "351"
      ]
     },
     "execution_count": 79,
     "metadata": {},
     "output_type": "execute_result"
    }
   ],
   "source": [
    "round(len(data) * 0.7)"
   ]
  },
  {
   "cell_type": "code",
   "execution_count": 88,
   "id": "2a0bca0b-5a1e-48e9-946c-3e1eb83612a8",
   "metadata": {},
   "outputs": [],
   "source": [
    "'''Partitioning: Partitioning refers to the process of\n",
    "dividing the dataset into multiple\n",
    "subsets for various purposes, such as training, validation, and testing'''\n",
    "\n",
    "\n",
    "#training and partiotioning steps\n",
    "# Training partition for image data\n",
    "train_data = processed_data .take(round(len(data) * 0.7))  # Selects the first 70% of the dataset for training\n",
    "train_data = train_data.batch(16)  # Batches the images into groups of 16 for efficient training\n",
    "train_data = train_data.prefetch(8)  # Prefetches batches of images to speed up training by overlapping data preprocessing and model execution\n",
    "\n",
    "\n",
    "\n"
   ]
  },
  {
   "cell_type": "code",
   "execution_count": 89,
   "id": "c3ab7bbb-bbfc-4cbd-ae43-b5fc21da8609",
   "metadata": {},
   "outputs": [
    {
     "data": {
      "text/plain": [
       "<_ShuffleDataset element_spec=(TensorSpec(shape=(100, 100, None), dtype=tf.float32, name=None), TensorSpec(shape=(100, 100, None), dtype=tf.float32, name=None), TensorSpec(shape=(), dtype=tf.float32, name=None))>"
      ]
     },
     "execution_count": 89,
     "metadata": {},
     "output_type": "execute_result"
    }
   ],
   "source": [
    "processed_data"
   ]
  },
  {
   "cell_type": "code",
   "execution_count": 90,
   "id": "029a3f4f-7cf0-4b7e-918e-2752f4c0e9e2",
   "metadata": {},
   "outputs": [
    {
     "data": {
      "text/plain": [
       "<_PrefetchDataset element_spec=(TensorSpec(shape=(None, 100, 100, None), dtype=tf.float32, name=None), TensorSpec(shape=(None, 100, 100, None), dtype=tf.float32, name=None), TensorSpec(shape=(None,), dtype=tf.float32, name=None))>"
      ]
     },
     "execution_count": 90,
     "metadata": {},
     "output_type": "execute_result"
    }
   ],
   "source": [
    "train_data"
   ]
  },
  {
   "cell_type": "code",
   "execution_count": 91,
   "id": "ba441133-28a4-4732-8f05-fe6dde2904d1",
   "metadata": {},
   "outputs": [],
   "source": [
    "train_samples=train_data.as_numpy_iterator()"
   ]
  },
  {
   "cell_type": "code",
   "execution_count": 92,
   "id": "17838d73-08b1-4117-ad5a-368f02ba5790",
   "metadata": {},
   "outputs": [],
   "source": [
    "train_next=samples.next()\n"
   ]
  },
  {
   "cell_type": "code",
   "execution_count": 93,
   "id": "7b37afcf-0a57-430a-bcd8-6039f31955cc",
   "metadata": {},
   "outputs": [
    {
     "data": {
      "text/plain": [
       "100"
      ]
     },
     "execution_count": 93,
     "metadata": {},
     "output_type": "execute_result"
    }
   ],
   "source": [
    "len(train_next[0])"
   ]
  },
  {
   "cell_type": "code",
   "execution_count": 94,
   "id": "d4be4e43-82ec-49b1-b9fb-6406bdc287bc",
   "metadata": {},
   "outputs": [],
   "source": [
    "# Evaluation partition for image data\n",
    "eval_data = processed_data .skip(round(len(data) * 0.7))  # Skips the first 70% of the dataset\n",
    "eval_data = eval_data.take(round(len(data) * 0.3))  # Takes the next 30% of the dataset for evaluation\n",
    "eval_data = eval_data.batch(16)  # Batches the images into groups of 16 for efficient evaluation\n",
    "eval_data = eval_data.prefetch(8)  # Prefetches batches of images to speed up evaluation by overlapping data preprocessing and model execution\n"
   ]
  },
  {
   "cell_type": "markdown",
   "id": "1b7103d2-5ad9-4af7-b128-5e2b7176f773",
   "metadata": {},
   "source": [
    "# --------------------end  of data pre-processing-------------------------"
   ]
  },
  {
   "cell_type": "markdown",
   "id": "6b2e1685-dc4b-488a-a2b6-5302408dc524",
   "metadata": {},
   "source": [
    "# Model Enginnering"
   ]
  },
  {
   "attachments": {
    "e2b30072-f859-4b1c-b20d-609e3ec9535e.png": {
     "image/png": "[encoded data removed]"
    }
   },
   "cell_type": "markdown",
   "id": "9b04e0e3-a28b-4d11-9809-f84cf7619261",
   "metadata": {},
   "source": [
    "![image.png](attachment:e2b30072-f859-4b1c-b20d-609e3ec9535e.png)"
   ]
  },
  {
   "cell_type": "code",
   "execution_count": 100,
   "id": "774577aa-845c-40b7-abcd-d7bea6433773",
   "metadata": {},
   "outputs": [],
   "source": [
    "from tensorflow.keras.layers import Input\n",
    "\n",
    "outcome = Input(shape=(100, 100, 3), name='input_image')\n"
   ]
  },
  {
   "cell_type": "code",
   "execution_count": 102,
   "id": "1928f53f-f086-4c94-af9b-02018858cf56",
   "metadata": {},
   "outputs": [
    {
     "data": {
      "text/plain": [
       "<KerasTensor shape=(None, 100, 100, 3), dtype=float32, sparse=None, name=input_image>"
      ]
     },
     "execution_count": 102,
     "metadata": {},
     "output_type": "execute_result"
    }
   ],
   "source": [
    "outcome"
   ]
  },
  {
   "cell_type": "code",
   "execution_count": 104,
   "id": "4f3ddf3e-e9a3-435e-b77e-66d520ab0bad",
   "metadata": {},
   "outputs": [],
   "source": [
    "#RELU activation applied\n",
    "from tensorflow.keras.layers import  Conv2D\n",
    "conv_layer1 = Conv2D(64, (10,10), activation='relu')(outcome)"
   ]
  },
  {
   "cell_type": "code",
   "execution_count": 107,
   "id": "da78eccd-b3ab-47c3-b7cf-f87048025e1f",
   "metadata": {},
   "outputs": [
    {
     "data": {
      "text/plain": [
       "<KerasTensor shape=(None, 91, 91, 64), dtype=float32, sparse=False, name=keras_tensor_1>"
      ]
     },
     "execution_count": 107,
     "metadata": {},
     "output_type": "execute_result"
    }
   ],
   "source": [
    "conv_layer1"
   ]
  },
  {
   "cell_type": "code",
   "execution_count": 112,
   "id": "47d19136-91f7-4317-a2a4-6353cdce58d2",
   "metadata": {},
   "outputs": [],
   "source": [
    "# max p0oling\n",
    "from tensorflow.keras.layers import  MaxPooling2D\n",
    "\n",
    "max_p1 = MaxPooling2D(64, (2,2), padding='same')(conv_layer1)"
   ]
  },
  {
   "cell_type": "code",
   "execution_count": 113,
   "id": "3d0637c8-08f3-423e-b4d1-9e735854f0f3",
   "metadata": {},
   "outputs": [],
   "source": [
    "conv_layer2 = Conv2D(128, (7,7), activation='relu')(max_p1)\n",
    "max_p2 = MaxPooling2D(64, (2,2), padding='same')(conv_layer2)"
   ]
  },
  {
   "cell_type": "code",
   "execution_count": 114,
   "id": "4972772d-8ffb-4b71-8136-9583bd7f79d5",
   "metadata": {},
   "outputs": [],
   "source": [
    "conv_layer3 = Conv2D(128, (4,4), activation='relu')(max_p2)\n",
    "max_p3 = MaxPooling2D(64, (2,2), padding='same')(conv_layer3)"
   ]
  },
  {
   "cell_type": "code",
   "execution_count": 117,
   "id": "38b6c3a4-cd61-4704-be5c-4abdd136774b",
   "metadata": {},
   "outputs": [],
   "source": [
    "\n",
    "from tensorflow.keras.layers import Flatten, Dense\n",
    "f1 = Flatten()(conv_layer4)\n",
    "dense1 = Dense(4096, activation='sigmoid')(f1)"
   ]
  },
  {
   "cell_type": "code",
   "execution_count": 118,
   "id": "c5df6fa8-4378-4fe5-a5f3-d4c9a5fc67b9",
   "metadata": {},
   "outputs": [
    {
     "data": {
      "text/plain": [
       "<KerasTensor shape=(None, 4096), dtype=float32, sparse=False, name=keras_tensor_11>"
      ]
     },
     "execution_count": 118,
     "metadata": {},
     "output_type": "execute_result"
    }
   ],
   "source": [
    "dense1"
   ]
  },
  {
   "cell_type": "code",
   "execution_count": 121,
   "id": "420b0168-e97d-4f07-ab6e-67ee721d5eb0",
   "metadata": {},
   "outputs": [],
   "source": [
    "from tensorflow.keras.layers import Input, Conv2D, MaxPooling2D, Flatten, Dense\n",
    "from tensorflow.keras.models import Model\n",
    "\n",
    "def create_embedding_model():\n",
    "    # Define input layer for the image\n",
    "    input_image = Input(shape=(100, 100, 3), name='input_image')\n",
    "    \n",
    "    # First convolutional layer with 64 filters and 10x10 kernel size, ReLU activation\n",
    "    conv1 = Conv2D(64, (10, 10), activation='relu')(input_image)\n",
    "    # Max pooling layer to down-sample the input\n",
    "    max_pool1 = MaxPooling2D(64, (2, 2), padding='same')(conv1)\n",
    "    \n",
    "    # Second convolutional layer with 128 filters and 7x7 kernel size, ReLU activation\n",
    "    conv2 = Conv2D(128, (7, 7), activation='relu')(max_pool1)\n",
    "    # Max pooling layer\n",
    "    max_pool2 = MaxPooling2D(64, (2, 2), padding='same')(conv2)\n",
    "    \n",
    "    # Third convolutional layer with 128 filters and 4x4 kernel size, ReLU activation\n",
    "    conv3 = Conv2D(128, (4, 4), activation='relu')(max_pool2)\n",
    "    # Max pooling layer\n",
    "    max_pool3 = MaxPooling2D(64, (2, 2), padding='same')(conv3)\n",
    "    \n",
    "    # Final convolutional layer with 256 filters and 4x4 kernel size, ReLU activation\n",
    "    conv4 = Conv2D(256, (4, 4), activation='relu')(max_pool3)\n",
    "    # Flatten layer to convert 3D feature maps to 1D feature vectors\n",
    "    flatten = Flatten()(conv4)\n",
    "    # Fully connected layer with 4096 neurons, sigmoid activation\n",
    "    dense1 = Dense(4096, activation='sigmoid')(flatten)\n",
    "    \n",
    "    # Define and return the embedding model\n",
    "    embedding_model = Model(inputs=[input_image], outputs=[dense1], name='embedding')\n",
    "    return embedding_model\n",
    "\n",
    "# Create the embedding model\n",
    "embedding_model = create_embedding_model()\n"
   ]
  },
  {
   "cell_type": "code",
   "execution_count": 125,
   "id": "e97e5212-1be1-4cd9-8b0e-dcee92c30b19",
   "metadata": {},
   "outputs": [
    {
     "name": "stdout",
     "output_type": "stream",
     "text": [
      "\u001b[94m---------------Model show---------------------\u001b[0m\n"
     ]
    },
    {
     "data": {
      "text/html": [
       "<pre style=\"white-space:pre;overflow-x:auto;line-height:normal;font-family:Menlo,'DejaVu Sans Mono',consolas,'Courier New',monospace\"><span style=\"font-weight: bold\">Model: \"embedding\"</span>\n",
       "</pre>\n"
      ],
      "text/plain": [
       "\u001b[1mModel: \"embedding\"\u001b[0m\n"
      ]
     },
     "metadata": {},
     "output_type": "display_data"
    },
    {
     "data": {
      "text/html": [
       "<pre style=\"white-space:pre;overflow-x:auto;line-height:normal;font-family:Menlo,'DejaVu Sans Mono',consolas,'Courier New',monospace\">┏━━━━━━━━━━━━━━━━━━━━━━━━━━━━━━━━━━━━━━┳━━━━━━━━━━━━━━━━━━━━━━━━━━━━━┳━━━━━━━━━━━━━━━━━┓\n",
       "┃<span style=\"font-weight: bold\"> Layer (type)                         </span>┃<span style=\"font-weight: bold\"> Output Shape                </span>┃<span style=\"font-weight: bold\">         Param # </span>┃\n",
       "┡━━━━━━━━━━━━━━━━━━━━━━━━━━━━━━━━━━━━━━╇━━━━━━━━━━━━━━━━━━━━━━━━━━━━━╇━━━━━━━━━━━━━━━━━┩\n",
       "│ input_image (<span style=\"color: #0087ff; text-decoration-color: #0087ff\">InputLayer</span>)             │ (<span style=\"color: #00d7ff; text-decoration-color: #00d7ff\">None</span>, <span style=\"color: #00af00; text-decoration-color: #00af00\">100</span>, <span style=\"color: #00af00; text-decoration-color: #00af00\">100</span>, <span style=\"color: #00af00; text-decoration-color: #00af00\">3</span>)         │               <span style=\"color: #00af00; text-decoration-color: #00af00\">0</span> │\n",
       "├──────────────────────────────────────┼─────────────────────────────┼─────────────────┤\n",
       "│ conv2d_13 (<span style=\"color: #0087ff; text-decoration-color: #0087ff\">Conv2D</span>)                   │ (<span style=\"color: #00d7ff; text-decoration-color: #00d7ff\">None</span>, <span style=\"color: #00af00; text-decoration-color: #00af00\">91</span>, <span style=\"color: #00af00; text-decoration-color: #00af00\">91</span>, <span style=\"color: #00af00; text-decoration-color: #00af00\">64</span>)          │          <span style=\"color: #00af00; text-decoration-color: #00af00\">19,264</span> │\n",
       "├──────────────────────────────────────┼─────────────────────────────┼─────────────────┤\n",
       "│ max_pooling2d_6 (<span style=\"color: #0087ff; text-decoration-color: #0087ff\">MaxPooling2D</span>)       │ (<span style=\"color: #00d7ff; text-decoration-color: #00d7ff\">None</span>, <span style=\"color: #00af00; text-decoration-color: #00af00\">46</span>, <span style=\"color: #00af00; text-decoration-color: #00af00\">46</span>, <span style=\"color: #00af00; text-decoration-color: #00af00\">64</span>)          │               <span style=\"color: #00af00; text-decoration-color: #00af00\">0</span> │\n",
       "├──────────────────────────────────────┼─────────────────────────────┼─────────────────┤\n",
       "│ conv2d_14 (<span style=\"color: #0087ff; text-decoration-color: #0087ff\">Conv2D</span>)                   │ (<span style=\"color: #00d7ff; text-decoration-color: #00d7ff\">None</span>, <span style=\"color: #00af00; text-decoration-color: #00af00\">40</span>, <span style=\"color: #00af00; text-decoration-color: #00af00\">40</span>, <span style=\"color: #00af00; text-decoration-color: #00af00\">128</span>)         │         <span style=\"color: #00af00; text-decoration-color: #00af00\">401,536</span> │\n",
       "├──────────────────────────────────────┼─────────────────────────────┼─────────────────┤\n",
       "│ max_pooling2d_7 (<span style=\"color: #0087ff; text-decoration-color: #0087ff\">MaxPooling2D</span>)       │ (<span style=\"color: #00d7ff; text-decoration-color: #00d7ff\">None</span>, <span style=\"color: #00af00; text-decoration-color: #00af00\">20</span>, <span style=\"color: #00af00; text-decoration-color: #00af00\">20</span>, <span style=\"color: #00af00; text-decoration-color: #00af00\">128</span>)         │               <span style=\"color: #00af00; text-decoration-color: #00af00\">0</span> │\n",
       "├──────────────────────────────────────┼─────────────────────────────┼─────────────────┤\n",
       "│ conv2d_15 (<span style=\"color: #0087ff; text-decoration-color: #0087ff\">Conv2D</span>)                   │ (<span style=\"color: #00d7ff; text-decoration-color: #00d7ff\">None</span>, <span style=\"color: #00af00; text-decoration-color: #00af00\">17</span>, <span style=\"color: #00af00; text-decoration-color: #00af00\">17</span>, <span style=\"color: #00af00; text-decoration-color: #00af00\">128</span>)         │         <span style=\"color: #00af00; text-decoration-color: #00af00\">262,272</span> │\n",
       "├──────────────────────────────────────┼─────────────────────────────┼─────────────────┤\n",
       "│ max_pooling2d_8 (<span style=\"color: #0087ff; text-decoration-color: #0087ff\">MaxPooling2D</span>)       │ (<span style=\"color: #00d7ff; text-decoration-color: #00d7ff\">None</span>, <span style=\"color: #00af00; text-decoration-color: #00af00\">9</span>, <span style=\"color: #00af00; text-decoration-color: #00af00\">9</span>, <span style=\"color: #00af00; text-decoration-color: #00af00\">128</span>)           │               <span style=\"color: #00af00; text-decoration-color: #00af00\">0</span> │\n",
       "├──────────────────────────────────────┼─────────────────────────────┼─────────────────┤\n",
       "│ conv2d_16 (<span style=\"color: #0087ff; text-decoration-color: #0087ff\">Conv2D</span>)                   │ (<span style=\"color: #00d7ff; text-decoration-color: #00d7ff\">None</span>, <span style=\"color: #00af00; text-decoration-color: #00af00\">6</span>, <span style=\"color: #00af00; text-decoration-color: #00af00\">6</span>, <span style=\"color: #00af00; text-decoration-color: #00af00\">256</span>)           │         <span style=\"color: #00af00; text-decoration-color: #00af00\">524,544</span> │\n",
       "├──────────────────────────────────────┼─────────────────────────────┼─────────────────┤\n",
       "│ flatten_3 (<span style=\"color: #0087ff; text-decoration-color: #0087ff\">Flatten</span>)                  │ (<span style=\"color: #00d7ff; text-decoration-color: #00d7ff\">None</span>, <span style=\"color: #00af00; text-decoration-color: #00af00\">9216</span>)                │               <span style=\"color: #00af00; text-decoration-color: #00af00\">0</span> │\n",
       "├──────────────────────────────────────┼─────────────────────────────┼─────────────────┤\n",
       "│ dense_3 (<span style=\"color: #0087ff; text-decoration-color: #0087ff\">Dense</span>)                      │ (<span style=\"color: #00d7ff; text-decoration-color: #00d7ff\">None</span>, <span style=\"color: #00af00; text-decoration-color: #00af00\">4096</span>)                │      <span style=\"color: #00af00; text-decoration-color: #00af00\">37,752,832</span> │\n",
       "└──────────────────────────────────────┴─────────────────────────────┴─────────────────┘\n",
       "</pre>\n"
      ],
      "text/plain": [
       "┏━━━━━━━━━━━━━━━━━━━━━━━━━━━━━━━━━━━━━━┳━━━━━━━━━━━━━━━━━━━━━━━━━━━━━┳━━━━━━━━━━━━━━━━━┓\n",
       "┃\u001b[1m \u001b[0m\u001b[1mLayer (type)                        \u001b[0m\u001b[1m \u001b[0m┃\u001b[1m \u001b[0m\u001b[1mOutput Shape               \u001b[0m\u001b[1m \u001b[0m┃\u001b[1m \u001b[0m\u001b[1m        Param #\u001b[0m\u001b[1m \u001b[0m┃\n",
       "┡━━━━━━━━━━━━━━━━━━━━━━━━━━━━━━━━━━━━━━╇━━━━━━━━━━━━━━━━━━━━━━━━━━━━━╇━━━━━━━━━━━━━━━━━┩\n",
       "│ input_image (\u001b[38;5;33mInputLayer\u001b[0m)             │ (\u001b[38;5;45mNone\u001b[0m, \u001b[38;5;34m100\u001b[0m, \u001b[38;5;34m100\u001b[0m, \u001b[38;5;34m3\u001b[0m)         │               \u001b[38;5;34m0\u001b[0m │\n",
       "├──────────────────────────────────────┼─────────────────────────────┼─────────────────┤\n",
       "│ conv2d_13 (\u001b[38;5;33mConv2D\u001b[0m)                   │ (\u001b[38;5;45mNone\u001b[0m, \u001b[38;5;34m91\u001b[0m, \u001b[38;5;34m91\u001b[0m, \u001b[38;5;34m64\u001b[0m)          │          \u001b[38;5;34m19,264\u001b[0m │\n",
       "├──────────────────────────────────────┼─────────────────────────────┼─────────────────┤\n",
       "│ max_pooling2d_6 (\u001b[38;5;33mMaxPooling2D\u001b[0m)       │ (\u001b[38;5;45mNone\u001b[0m, \u001b[38;5;34m46\u001b[0m, \u001b[38;5;34m46\u001b[0m, \u001b[38;5;34m64\u001b[0m)          │               \u001b[38;5;34m0\u001b[0m │\n",
       "├──────────────────────────────────────┼─────────────────────────────┼─────────────────┤\n",
       "│ conv2d_14 (\u001b[38;5;33mConv2D\u001b[0m)                   │ (\u001b[38;5;45mNone\u001b[0m, \u001b[38;5;34m40\u001b[0m, \u001b[38;5;34m40\u001b[0m, \u001b[38;5;34m128\u001b[0m)         │         \u001b[38;5;34m401,536\u001b[0m │\n",
       "├──────────────────────────────────────┼─────────────────────────────┼─────────────────┤\n",
       "│ max_pooling2d_7 (\u001b[38;5;33mMaxPooling2D\u001b[0m)       │ (\u001b[38;5;45mNone\u001b[0m, \u001b[38;5;34m20\u001b[0m, \u001b[38;5;34m20\u001b[0m, \u001b[38;5;34m128\u001b[0m)         │               \u001b[38;5;34m0\u001b[0m │\n",
       "├──────────────────────────────────────┼─────────────────────────────┼─────────────────┤\n",
       "│ conv2d_15 (\u001b[38;5;33mConv2D\u001b[0m)                   │ (\u001b[38;5;45mNone\u001b[0m, \u001b[38;5;34m17\u001b[0m, \u001b[38;5;34m17\u001b[0m, \u001b[38;5;34m128\u001b[0m)         │         \u001b[38;5;34m262,272\u001b[0m │\n",
       "├──────────────────────────────────────┼─────────────────────────────┼─────────────────┤\n",
       "│ max_pooling2d_8 (\u001b[38;5;33mMaxPooling2D\u001b[0m)       │ (\u001b[38;5;45mNone\u001b[0m, \u001b[38;5;34m9\u001b[0m, \u001b[38;5;34m9\u001b[0m, \u001b[38;5;34m128\u001b[0m)           │               \u001b[38;5;34m0\u001b[0m │\n",
       "├──────────────────────────────────────┼─────────────────────────────┼─────────────────┤\n",
       "│ conv2d_16 (\u001b[38;5;33mConv2D\u001b[0m)                   │ (\u001b[38;5;45mNone\u001b[0m, \u001b[38;5;34m6\u001b[0m, \u001b[38;5;34m6\u001b[0m, \u001b[38;5;34m256\u001b[0m)           │         \u001b[38;5;34m524,544\u001b[0m │\n",
       "├──────────────────────────────────────┼─────────────────────────────┼─────────────────┤\n",
       "│ flatten_3 (\u001b[38;5;33mFlatten\u001b[0m)                  │ (\u001b[38;5;45mNone\u001b[0m, \u001b[38;5;34m9216\u001b[0m)                │               \u001b[38;5;34m0\u001b[0m │\n",
       "├──────────────────────────────────────┼─────────────────────────────┼─────────────────┤\n",
       "│ dense_3 (\u001b[38;5;33mDense\u001b[0m)                      │ (\u001b[38;5;45mNone\u001b[0m, \u001b[38;5;34m4096\u001b[0m)                │      \u001b[38;5;34m37,752,832\u001b[0m │\n",
       "└──────────────────────────────────────┴─────────────────────────────┴─────────────────┘\n"
      ]
     },
     "metadata": {},
     "output_type": "display_data"
    },
    {
     "data": {
      "text/html": [
       "<pre style=\"white-space:pre;overflow-x:auto;line-height:normal;font-family:Menlo,'DejaVu Sans Mono',consolas,'Courier New',monospace\"><span style=\"font-weight: bold\"> Total params: </span><span style=\"color: #00af00; text-decoration-color: #00af00\">38,960,448</span> (148.62 MB)\n",
       "</pre>\n"
      ],
      "text/plain": [
       "\u001b[1m Total params: \u001b[0m\u001b[38;5;34m38,960,448\u001b[0m (148.62 MB)\n"
      ]
     },
     "metadata": {},
     "output_type": "display_data"
    },
    {
     "data": {
      "text/html": [
       "<pre style=\"white-space:pre;overflow-x:auto;line-height:normal;font-family:Menlo,'DejaVu Sans Mono',consolas,'Courier New',monospace\"><span style=\"font-weight: bold\"> Trainable params: </span><span style=\"color: #00af00; text-decoration-color: #00af00\">38,960,448</span> (148.62 MB)\n",
       "</pre>\n"
      ],
      "text/plain": [
       "\u001b[1m Trainable params: \u001b[0m\u001b[38;5;34m38,960,448\u001b[0m (148.62 MB)\n"
      ]
     },
     "metadata": {},
     "output_type": "display_data"
    },
    {
     "data": {
      "text/html": [
       "<pre style=\"white-space:pre;overflow-x:auto;line-height:normal;font-family:Menlo,'DejaVu Sans Mono',consolas,'Courier New',monospace\"><span style=\"font-weight: bold\"> Non-trainable params: </span><span style=\"color: #00af00; text-decoration-color: #00af00\">0</span> (0.00 B)\n",
       "</pre>\n"
      ],
      "text/plain": [
       "\u001b[1m Non-trainable params: \u001b[0m\u001b[38;5;34m0\u001b[0m (0.00 B)\n"
      ]
     },
     "metadata": {},
     "output_type": "display_data"
    }
   ],
   "source": [
    "print(\"\\033[94m---------------Model show---------------------\\033[0m\")\n",
    "embedding_model.summary()\n"
   ]
  },
  {
   "cell_type": "code",
   "execution_count": 183,
   "id": "7bdabfb9-8ff0-48a9-bdf7-c7d3d0196d65",
   "metadata": {},
   "outputs": [],
   "source": [
    "# Custom Siamese L1 Distance class\n",
    "class CustomL1Distance(Layer):\n",
    "    \n",
    "    # Constructor\n",
    "    def __init__(self, **kwargs):\n",
    "        super().__init__()\n",
    "       \n",
    "    # Custom L1 Distance calculation\n",
    "    def call(self, input_embedding_list, validation_embedding_list):\n",
    "        # Assuming input_embedding_list and validation_embedding_list are lists of tensors\n",
    "        result = []\n",
    "        for input_tensor, validation_tensor in zip(input_embedding_list, validation_embedding_list):\n",
    "            result.append(tf.math.abs(input_tensor - validation_tensor))\n",
    "        return result\n"
   ]
  },
  {
   "cell_type": "code",
   "execution_count": 127,
   "id": "9ac407c0-e456-4854-84d2-032808cc1727",
   "metadata": {},
   "outputs": [],
   "source": [
    "layer1 = SiameseL1Distance()"
   ]
  },
  {
   "cell_type": "markdown",
   "id": "6d7a0cd6-df84-4ee1-bbe0-e27faaddcfd3",
   "metadata": {},
   "source": [
    "# now make siamese neural network"
   ]
  },
  {
   "cell_type": "code",
   "execution_count": 184,
   "id": "124937f6-82ad-421d-b24e-87eb326ddcbd",
   "metadata": {},
   "outputs": [],
   "source": [
    "def create_siamese_model(): \n",
    "    \n",
    "    # Anchor image input in the network\n",
    "    input_image = Input(name='input_img', shape=(100,100,3))\n",
    "    \n",
    "    # Validation image in the network \n",
    "    validation_image = Input(name='validation_img', shape=(100,100,3))\n",
    "    \n",
    "    # Combine siamese distance components\n",
    "    siamese_layer = CustomL1Distance()\n",
    "    siamese_layer._name = 'distance'\n",
    "    distances = siamese_layer(embedding_model(input_image), embedding_model(validation_image))\n",
    "    \n",
    "    # Classification layer \n",
    "    classifier = Dense(1, activation='sigmoid')(distances)\n",
    "    \n",
    "    return Model(inputs=[input_image, validation_image], outputs=classifier, name='SiameseNetwork')\n"
   ]
  },
  {
   "cell_type": "code",
   "execution_count": 185,
   "id": "f0b296e8-ae39-47cc-a984-6a9d08011ee0",
   "metadata": {},
   "outputs": [],
   "source": [
    "siamese_model = make_siamese_model()"
   ]
  },
  {
   "cell_type": "code",
   "execution_count": 187,
   "id": "317b200c-1b55-48b7-ba67-d1385af2986c",
   "metadata": {},
   "outputs": [
    {
     "data": {
      "text/html": [
       "<pre style=\"white-space:pre;overflow-x:auto;line-height:normal;font-family:Menlo,'DejaVu Sans Mono',consolas,'Courier New',monospace\"><span style=\"font-weight: bold\">Model: \"SiameseNetwork\"</span>\n",
       "</pre>\n"
      ],
      "text/plain": [
       "\u001b[1mModel: \"SiameseNetwork\"\u001b[0m\n"
      ]
     },
     "metadata": {},
     "output_type": "display_data"
    },
    {
     "data": {
      "text/html": [
       "<pre style=\"white-space:pre;overflow-x:auto;line-height:normal;font-family:Menlo,'DejaVu Sans Mono',consolas,'Courier New',monospace\">┏━━━━━━━━━━━━━━━━━━━━━━━━━━━━━━━┳━━━━━━━━━━━━━━━━━━━━━━━━━━━┳━━━━━━━━━━━━━━━━━┳━━━━━━━━━━━━━━━━━━━━━━━━━━━━┓\n",
       "┃<span style=\"font-weight: bold\"> Layer (type)                  </span>┃<span style=\"font-weight: bold\"> Output Shape              </span>┃<span style=\"font-weight: bold\">         Param # </span>┃<span style=\"font-weight: bold\"> Connected to               </span>┃\n",
       "┡━━━━━━━━━━━━━━━━━━━━━━━━━━━━━━━╇━━━━━━━━━━━━━━━━━━━━━━━━━━━╇━━━━━━━━━━━━━━━━━╇━━━━━━━━━━━━━━━━━━━━━━━━━━━━┩\n",
       "│ input_img (<span style=\"color: #0087ff; text-decoration-color: #0087ff\">InputLayer</span>)        │ (<span style=\"color: #00d7ff; text-decoration-color: #00d7ff\">None</span>, <span style=\"color: #00af00; text-decoration-color: #00af00\">100</span>, <span style=\"color: #00af00; text-decoration-color: #00af00\">100</span>, <span style=\"color: #00af00; text-decoration-color: #00af00\">3</span>)       │               <span style=\"color: #00af00; text-decoration-color: #00af00\">0</span> │ -                          │\n",
       "├───────────────────────────────┼───────────────────────────┼─────────────────┼────────────────────────────┤\n",
       "│ validation_img (<span style=\"color: #0087ff; text-decoration-color: #0087ff\">InputLayer</span>)   │ (<span style=\"color: #00d7ff; text-decoration-color: #00d7ff\">None</span>, <span style=\"color: #00af00; text-decoration-color: #00af00\">100</span>, <span style=\"color: #00af00; text-decoration-color: #00af00\">100</span>, <span style=\"color: #00af00; text-decoration-color: #00af00\">3</span>)       │               <span style=\"color: #00af00; text-decoration-color: #00af00\">0</span> │ -                          │\n",
       "├───────────────────────────────┼───────────────────────────┼─────────────────┼────────────────────────────┤\n",
       "│ embedding (<span style=\"color: #0087ff; text-decoration-color: #0087ff\">Functional</span>)        │ (<span style=\"color: #00d7ff; text-decoration-color: #00d7ff\">None</span>, <span style=\"color: #00af00; text-decoration-color: #00af00\">4096</span>)              │      <span style=\"color: #00af00; text-decoration-color: #00af00\">38,960,448</span> │ input_img[<span style=\"color: #00af00; text-decoration-color: #00af00\">0</span>][<span style=\"color: #00af00; text-decoration-color: #00af00\">0</span>],           │\n",
       "│                               │                           │                 │ validation_img[<span style=\"color: #00af00; text-decoration-color: #00af00\">0</span>][<span style=\"color: #00af00; text-decoration-color: #00af00\">0</span>]       │\n",
       "├───────────────────────────────┼───────────────────────────┼─────────────────┼────────────────────────────┤\n",
       "│ l1_dist_4 (<span style=\"color: #0087ff; text-decoration-color: #0087ff\">L1Dist</span>)            │ (<span style=\"color: #00d7ff; text-decoration-color: #00d7ff\">None</span>, <span style=\"color: #00af00; text-decoration-color: #00af00\">4096</span>)              │               <span style=\"color: #00af00; text-decoration-color: #00af00\">0</span> │ embedding[<span style=\"color: #00af00; text-decoration-color: #00af00\">20</span>][<span style=\"color: #00af00; text-decoration-color: #00af00\">0</span>],          │\n",
       "│                               │                           │                 │ embedding[<span style=\"color: #00af00; text-decoration-color: #00af00\">21</span>][<span style=\"color: #00af00; text-decoration-color: #00af00\">0</span>]           │\n",
       "├───────────────────────────────┼───────────────────────────┼─────────────────┼────────────────────────────┤\n",
       "│ dense_7 (<span style=\"color: #0087ff; text-decoration-color: #0087ff\">Dense</span>)               │ (<span style=\"color: #00d7ff; text-decoration-color: #00d7ff\">None</span>, <span style=\"color: #00af00; text-decoration-color: #00af00\">1</span>)                 │           <span style=\"color: #00af00; text-decoration-color: #00af00\">4,097</span> │ l1_dist_4[<span style=\"color: #00af00; text-decoration-color: #00af00\">0</span>][<span style=\"color: #00af00; text-decoration-color: #00af00\">0</span>]            │\n",
       "└───────────────────────────────┴───────────────────────────┴─────────────────┴────────────────────────────┘\n",
       "</pre>\n"
      ],
      "text/plain": [
       "┏━━━━━━━━━━━━━━━━━━━━━━━━━━━━━━━┳━━━━━━━━━━━━━━━━━━━━━━━━━━━┳━━━━━━━━━━━━━━━━━┳━━━━━━━━━━━━━━━━━━━━━━━━━━━━┓\n",
       "┃\u001b[1m \u001b[0m\u001b[1mLayer (type)                 \u001b[0m\u001b[1m \u001b[0m┃\u001b[1m \u001b[0m\u001b[1mOutput Shape             \u001b[0m\u001b[1m \u001b[0m┃\u001b[1m \u001b[0m\u001b[1m        Param #\u001b[0m\u001b[1m \u001b[0m┃\u001b[1m \u001b[0m\u001b[1mConnected to              \u001b[0m\u001b[1m \u001b[0m┃\n",
       "┡━━━━━━━━━━━━━━━━━━━━━━━━━━━━━━━╇━━━━━━━━━━━━━━━━━━━━━━━━━━━╇━━━━━━━━━━━━━━━━━╇━━━━━━━━━━━━━━━━━━━━━━━━━━━━┩\n",
       "│ input_img (\u001b[38;5;33mInputLayer\u001b[0m)        │ (\u001b[38;5;45mNone\u001b[0m, \u001b[38;5;34m100\u001b[0m, \u001b[38;5;34m100\u001b[0m, \u001b[38;5;34m3\u001b[0m)       │               \u001b[38;5;34m0\u001b[0m │ -                          │\n",
       "├───────────────────────────────┼───────────────────────────┼─────────────────┼────────────────────────────┤\n",
       "│ validation_img (\u001b[38;5;33mInputLayer\u001b[0m)   │ (\u001b[38;5;45mNone\u001b[0m, \u001b[38;5;34m100\u001b[0m, \u001b[38;5;34m100\u001b[0m, \u001b[38;5;34m3\u001b[0m)       │               \u001b[38;5;34m0\u001b[0m │ -                          │\n",
       "├───────────────────────────────┼───────────────────────────┼─────────────────┼────────────────────────────┤\n",
       "│ embedding (\u001b[38;5;33mFunctional\u001b[0m)        │ (\u001b[38;5;45mNone\u001b[0m, \u001b[38;5;34m4096\u001b[0m)              │      \u001b[38;5;34m38,960,448\u001b[0m │ input_img[\u001b[38;5;34m0\u001b[0m][\u001b[38;5;34m0\u001b[0m],           │\n",
       "│                               │                           │                 │ validation_img[\u001b[38;5;34m0\u001b[0m][\u001b[38;5;34m0\u001b[0m]       │\n",
       "├───────────────────────────────┼───────────────────────────┼─────────────────┼────────────────────────────┤\n",
       "│ l1_dist_4 (\u001b[38;5;33mL1Dist\u001b[0m)            │ (\u001b[38;5;45mNone\u001b[0m, \u001b[38;5;34m4096\u001b[0m)              │               \u001b[38;5;34m0\u001b[0m │ embedding[\u001b[38;5;34m20\u001b[0m][\u001b[38;5;34m0\u001b[0m],          │\n",
       "│                               │                           │                 │ embedding[\u001b[38;5;34m21\u001b[0m][\u001b[38;5;34m0\u001b[0m]           │\n",
       "├───────────────────────────────┼───────────────────────────┼─────────────────┼────────────────────────────┤\n",
       "│ dense_7 (\u001b[38;5;33mDense\u001b[0m)               │ (\u001b[38;5;45mNone\u001b[0m, \u001b[38;5;34m1\u001b[0m)                 │           \u001b[38;5;34m4,097\u001b[0m │ l1_dist_4[\u001b[38;5;34m0\u001b[0m][\u001b[38;5;34m0\u001b[0m]            │\n",
       "└───────────────────────────────┴───────────────────────────┴─────────────────┴────────────────────────────┘\n"
      ]
     },
     "metadata": {},
     "output_type": "display_data"
    },
    {
     "data": {
      "text/html": [
       "<pre style=\"white-space:pre;overflow-x:auto;line-height:normal;font-family:Menlo,'DejaVu Sans Mono',consolas,'Courier New',monospace\"><span style=\"font-weight: bold\"> Total params: </span><span style=\"color: #00af00; text-decoration-color: #00af00\">38,964,545</span> (148.64 MB)\n",
       "</pre>\n"
      ],
      "text/plain": [
       "\u001b[1m Total params: \u001b[0m\u001b[38;5;34m38,964,545\u001b[0m (148.64 MB)\n"
      ]
     },
     "metadata": {},
     "output_type": "display_data"
    },
    {
     "data": {
      "text/html": [
       "<pre style=\"white-space:pre;overflow-x:auto;line-height:normal;font-family:Menlo,'DejaVu Sans Mono',consolas,'Courier New',monospace\"><span style=\"font-weight: bold\"> Trainable params: </span><span style=\"color: #00af00; text-decoration-color: #00af00\">38,964,545</span> (148.64 MB)\n",
       "</pre>\n"
      ],
      "text/plain": [
       "\u001b[1m Trainable params: \u001b[0m\u001b[38;5;34m38,964,545\u001b[0m (148.64 MB)\n"
      ]
     },
     "metadata": {},
     "output_type": "display_data"
    },
    {
     "data": {
      "text/html": [
       "<pre style=\"white-space:pre;overflow-x:auto;line-height:normal;font-family:Menlo,'DejaVu Sans Mono',consolas,'Courier New',monospace\"><span style=\"font-weight: bold\"> Non-trainable params: </span><span style=\"color: #00af00; text-decoration-color: #00af00\">0</span> (0.00 B)\n",
       "</pre>\n"
      ],
      "text/plain": [
       "\u001b[1m Non-trainable params: \u001b[0m\u001b[38;5;34m0\u001b[0m (0.00 B)\n"
      ]
     },
     "metadata": {},
     "output_type": "display_data"
    }
   ],
   "source": [
    "siamese_model.summary()"
   ]
  },
  {
   "cell_type": "markdown",
   "id": "2bfdbfd2-b31a-4f54-ab1d-56a077b53969",
   "metadata": {},
   "source": [
    "# TRAINING"
   ]
  },
  {
   "cell_type": "code",
   "execution_count": 188,
   "id": "bd89d5e4-1f99-4fba-8e64-f772c0aa72f4",
   "metadata": {},
   "outputs": [],
   "source": [
    "binary_cross_entropy_loss = tf.losses.BinaryCrossentropy()  \n",
    "adam_optimizer = tf.keras.optimizers.Adam(1e-4)\n"
   ]
  },
  {
   "cell_type": "code",
   "execution_count": 189,
   "id": "6f074240-3733-42a2-91a6-686601cadd84",
   "metadata": {},
   "outputs": [],
   "source": [
    "checkpoint_dir = './training_checkpoints'\n",
    "checkpoint_prefix = os.path.join(checkpoint_dir, 'ckpt')\n",
    "checkpoint = tf.train.Checkpoint(optimizer=adam_optimizer, siamese_model=siamese_model)\n"
   ]
  },
  {
   "cell_type": "code",
   "execution_count": 191,
   "id": "3d84350f-3b2b-40ed-b349-8307ebbf794a",
   "metadata": {},
   "outputs": [],
   "source": [
    "test_batch = train_data.as_numpy_iterator()"
   ]
  },
  {
   "cell_type": "code",
   "execution_count": 192,
   "id": "64ebf16d-6b9f-45bf-b275-42b5f05f2be9",
   "metadata": {},
   "outputs": [],
   "source": [
    "batch_1 = test_batch.next()"
   ]
  },
  {
   "cell_type": "code",
   "execution_count": 193,
   "id": "4faafb8f-62ab-4547-b4f2-9b61bdf833ec",
   "metadata": {},
   "outputs": [],
   "source": [
    "A = batch_1[:2]"
   ]
  },
  {
   "cell_type": "code",
   "execution_count": 195,
   "id": "2cc08932-ae9b-4edd-85d7-ab4eee9f7f9c",
   "metadata": {},
   "outputs": [
    {
     "data": {
      "text/plain": [
       "(2, 16, 100, 100, 3)"
      ]
     },
     "execution_count": 195,
     "metadata": {},
     "output_type": "execute_result"
    }
   ],
   "source": [
    "import numpy as np\n",
    "\n",
    "np.array(A).shape"
   ]
  },
  {
   "cell_type": "code",
   "execution_count": 196,
   "id": "68e77371-99b9-45d7-985a-dd4097f4622c",
   "metadata": {},
   "outputs": [],
   "source": [
    "B = batch_1[2]"
   ]
  },
  {
   "cell_type": "code",
   "execution_count": 197,
   "id": "27b0831e-1f39-488a-ae5a-dd8604e5bb04",
   "metadata": {},
   "outputs": [
    {
     "data": {
      "text/plain": [
       "\u001b[1;31mInit signature:\u001b[0m\n",
       "\u001b[0mtf\u001b[0m\u001b[1;33m.\u001b[0m\u001b[0mlosses\u001b[0m\u001b[1;33m.\u001b[0m\u001b[0mBinaryCrossentropy\u001b[0m\u001b[1;33m(\u001b[0m\u001b[1;33m\n",
       "\u001b[0m    \u001b[0mfrom_logits\u001b[0m\u001b[1;33m=\u001b[0m\u001b[1;32mFalse\u001b[0m\u001b[1;33m,\u001b[0m\u001b[1;33m\n",
       "\u001b[0m    \u001b[0mlabel_smoothing\u001b[0m\u001b[1;33m=\u001b[0m\u001b[1;36m0.0\u001b[0m\u001b[1;33m,\u001b[0m\u001b[1;33m\n",
       "\u001b[0m    \u001b[0maxis\u001b[0m\u001b[1;33m=\u001b[0m\u001b[1;33m-\u001b[0m\u001b[1;36m1\u001b[0m\u001b[1;33m,\u001b[0m\u001b[1;33m\n",
       "\u001b[0m    \u001b[0mreduction\u001b[0m\u001b[1;33m=\u001b[0m\u001b[1;34m'sum_over_batch_size'\u001b[0m\u001b[1;33m,\u001b[0m\u001b[1;33m\n",
       "\u001b[0m    \u001b[0mname\u001b[0m\u001b[1;33m=\u001b[0m\u001b[1;34m'binary_crossentropy'\u001b[0m\u001b[1;33m,\u001b[0m\u001b[1;33m\n",
       "\u001b[0m\u001b[1;33m)\u001b[0m\u001b[1;33m\u001b[0m\u001b[1;33m\u001b[0m\u001b[0m\n",
       "\u001b[1;31mSource:\u001b[0m        \n",
       "\u001b[1;33m@\u001b[0m\u001b[0mkeras_export\u001b[0m\u001b[1;33m(\u001b[0m\u001b[1;34m\"keras.losses.BinaryCrossentropy\"\u001b[0m\u001b[1;33m)\u001b[0m\u001b[1;33m\n",
       "\u001b[0m\u001b[1;32mclass\u001b[0m \u001b[0mBinaryCrossentropy\u001b[0m\u001b[1;33m(\u001b[0m\u001b[0mLossFunctionWrapper\u001b[0m\u001b[1;33m)\u001b[0m\u001b[1;33m:\u001b[0m\u001b[1;33m\n",
       "\u001b[0m    \u001b[1;34m\"\"\"Computes the cross-entropy loss between true labels and predicted labels.\n",
       "\n",
       "    Use this cross-entropy loss for binary (0 or 1) classification applications.\n",
       "    The loss function requires the following inputs:\n",
       "\n",
       "    - `y_true` (true label): This is either 0 or 1.\n",
       "    - `y_pred` (predicted value): This is the model's prediction, i.e, a single\n",
       "        floating-point value which either represents a\n",
       "        [logit](https://en.wikipedia.org/wiki/Logit), (i.e, value in [-inf, inf]\n",
       "        when `from_logits=True`) or a probability (i.e, value in [0., 1.] when\n",
       "        `from_logits=False`).\n",
       "\n",
       "    Args:\n",
       "        from_logits: Whether to interpret `y_pred` as a tensor of\n",
       "            [logit](https://en.wikipedia.org/wiki/Logit) values. By default, we\n",
       "            assume that `y_pred` is probabilities (i.e., values in [0, 1]).\n",
       "        label_smoothing: Float in range [0, 1]. When 0, no smoothing occurs.\n",
       "            When > 0, we compute the loss between the predicted labels\n",
       "            and a smoothed version of the true labels, where the smoothing\n",
       "            squeezes the labels towards 0.5. Larger values of\n",
       "            `label_smoothing` correspond to heavier smoothing.\n",
       "        axis: The axis along which to compute crossentropy (the features axis).\n",
       "            Defaults to `-1`.\n",
       "        reduction: Type of reduction to apply to the loss. In almost all cases\n",
       "            this should be `\"sum_over_batch_size\"`.\n",
       "            Supported options are `\"sum\"`, `\"sum_over_batch_size\"` or `None`.\n",
       "        name: Optional name for the loss instance.\n",
       "\n",
       "    Examples:\n",
       "\n",
       "    **Recommended Usage:** (set `from_logits=True`)\n",
       "\n",
       "    With `compile()` API:\n",
       "\n",
       "    ```python\n",
       "    model.compile(\n",
       "        loss=keras.losses.BinaryCrossentropy(from_logits=True),\n",
       "        ...\n",
       "    )\n",
       "    ```\n",
       "\n",
       "    As a standalone function:\n",
       "\n",
       "    >>> # Example 1: (batch_size = 1, number of samples = 4)\n",
       "    >>> y_true = [0, 1, 0, 0]\n",
       "    >>> y_pred = [-18.6, 0.51, 2.94, -12.8]\n",
       "    >>> bce = keras.losses.BinaryCrossentropy(from_logits=True)\n",
       "    >>> bce(y_true, y_pred)\n",
       "    0.865\n",
       "\n",
       "    >>> # Example 2: (batch_size = 2, number of samples = 4)\n",
       "    >>> y_true = [[0, 1], [0, 0]]\n",
       "    >>> y_pred = [[-18.6, 0.51], [2.94, -12.8]]\n",
       "    >>> # Using default 'auto'/'sum_over_batch_size' reduction type.\n",
       "    >>> bce = keras.losses.BinaryCrossentropy(from_logits=True)\n",
       "    >>> bce(y_true, y_pred)\n",
       "    0.865\n",
       "    >>> # Using 'sample_weight' attribute\n",
       "    >>> bce(y_true, y_pred, sample_weight=[0.8, 0.2])\n",
       "    0.243\n",
       "    >>> # Using 'sum' reduction` type.\n",
       "    >>> bce = keras.losses.BinaryCrossentropy(from_logits=True,\n",
       "    ...     reduction=\"sum\")\n",
       "    >>> bce(y_true, y_pred)\n",
       "    1.730\n",
       "    >>> # Using 'none' reduction type.\n",
       "    >>> bce = keras.losses.BinaryCrossentropy(from_logits=True,\n",
       "    ...     reduction=None)\n",
       "    >>> bce(y_true, y_pred)\n",
       "    array([0.235, 1.496], dtype=float32)\n",
       "\n",
       "    **Default Usage:** (set `from_logits=False`)\n",
       "\n",
       "    >>> # Make the following updates to the above \"Recommended Usage\" section\n",
       "    >>> # 1. Set `from_logits=False`\n",
       "    >>> keras.losses.BinaryCrossentropy() # OR ...('from_logits=False')\n",
       "    >>> # 2. Update `y_pred` to use probabilities instead of logits\n",
       "    >>> y_pred = [0.6, 0.3, 0.2, 0.8] # OR [[0.6, 0.3], [0.2, 0.8]]\n",
       "    \"\"\"\u001b[0m\u001b[1;33m\n",
       "\u001b[0m\u001b[1;33m\n",
       "\u001b[0m    \u001b[1;32mdef\u001b[0m \u001b[0m__init__\u001b[0m\u001b[1;33m(\u001b[0m\u001b[1;33m\n",
       "\u001b[0m        \u001b[0mself\u001b[0m\u001b[1;33m,\u001b[0m\u001b[1;33m\n",
       "\u001b[0m        \u001b[0mfrom_logits\u001b[0m\u001b[1;33m=\u001b[0m\u001b[1;32mFalse\u001b[0m\u001b[1;33m,\u001b[0m\u001b[1;33m\n",
       "\u001b[0m        \u001b[0mlabel_smoothing\u001b[0m\u001b[1;33m=\u001b[0m\u001b[1;36m0.0\u001b[0m\u001b[1;33m,\u001b[0m\u001b[1;33m\n",
       "\u001b[0m        \u001b[0maxis\u001b[0m\u001b[1;33m=\u001b[0m\u001b[1;33m-\u001b[0m\u001b[1;36m1\u001b[0m\u001b[1;33m,\u001b[0m\u001b[1;33m\n",
       "\u001b[0m        \u001b[0mreduction\u001b[0m\u001b[1;33m=\u001b[0m\u001b[1;34m\"sum_over_batch_size\"\u001b[0m\u001b[1;33m,\u001b[0m\u001b[1;33m\n",
       "\u001b[0m        \u001b[0mname\u001b[0m\u001b[1;33m=\u001b[0m\u001b[1;34m\"binary_crossentropy\"\u001b[0m\u001b[1;33m,\u001b[0m\u001b[1;33m\n",
       "\u001b[0m    \u001b[1;33m)\u001b[0m\u001b[1;33m:\u001b[0m\u001b[1;33m\n",
       "\u001b[0m        \u001b[0msuper\u001b[0m\u001b[1;33m(\u001b[0m\u001b[1;33m)\u001b[0m\u001b[1;33m.\u001b[0m\u001b[0m__init__\u001b[0m\u001b[1;33m(\u001b[0m\u001b[1;33m\n",
       "\u001b[0m            \u001b[0mbinary_crossentropy\u001b[0m\u001b[1;33m,\u001b[0m\u001b[1;33m\n",
       "\u001b[0m            \u001b[0mname\u001b[0m\u001b[1;33m=\u001b[0m\u001b[0mname\u001b[0m\u001b[1;33m,\u001b[0m\u001b[1;33m\n",
       "\u001b[0m            \u001b[0mreduction\u001b[0m\u001b[1;33m=\u001b[0m\u001b[0mreduction\u001b[0m\u001b[1;33m,\u001b[0m\u001b[1;33m\n",
       "\u001b[0m            \u001b[0mfrom_logits\u001b[0m\u001b[1;33m=\u001b[0m\u001b[0mfrom_logits\u001b[0m\u001b[1;33m,\u001b[0m\u001b[1;33m\n",
       "\u001b[0m            \u001b[0mlabel_smoothing\u001b[0m\u001b[1;33m=\u001b[0m\u001b[0mlabel_smoothing\u001b[0m\u001b[1;33m,\u001b[0m\u001b[1;33m\n",
       "\u001b[0m            \u001b[0maxis\u001b[0m\u001b[1;33m=\u001b[0m\u001b[0maxis\u001b[0m\u001b[1;33m,\u001b[0m\u001b[1;33m\n",
       "\u001b[0m        \u001b[1;33m)\u001b[0m\u001b[1;33m\n",
       "\u001b[0m        \u001b[0mself\u001b[0m\u001b[1;33m.\u001b[0m\u001b[0mfrom_logits\u001b[0m \u001b[1;33m=\u001b[0m \u001b[0mfrom_logits\u001b[0m\u001b[1;33m\n",
       "\u001b[0m        \u001b[0mself\u001b[0m\u001b[1;33m.\u001b[0m\u001b[0mlabel_smoothing\u001b[0m \u001b[1;33m=\u001b[0m \u001b[0mlabel_smoothing\u001b[0m\u001b[1;33m\n",
       "\u001b[0m        \u001b[0mself\u001b[0m\u001b[1;33m.\u001b[0m\u001b[0maxis\u001b[0m \u001b[1;33m=\u001b[0m \u001b[0maxis\u001b[0m\u001b[1;33m\n",
       "\u001b[0m\u001b[1;33m\n",
       "\u001b[0m    \u001b[1;32mdef\u001b[0m \u001b[0mget_config\u001b[0m\u001b[1;33m(\u001b[0m\u001b[0mself\u001b[0m\u001b[1;33m)\u001b[0m\u001b[1;33m:\u001b[0m\u001b[1;33m\n",
       "\u001b[0m        \u001b[1;32mreturn\u001b[0m \u001b[1;33m{\u001b[0m\u001b[1;33m\n",
       "\u001b[0m            \u001b[1;34m\"name\"\u001b[0m\u001b[1;33m:\u001b[0m \u001b[0mself\u001b[0m\u001b[1;33m.\u001b[0m\u001b[0mname\u001b[0m\u001b[1;33m,\u001b[0m\u001b[1;33m\n",
       "\u001b[0m            \u001b[1;34m\"reduction\"\u001b[0m\u001b[1;33m:\u001b[0m \u001b[0mself\u001b[0m\u001b[1;33m.\u001b[0m\u001b[0mreduction\u001b[0m\u001b[1;33m,\u001b[0m\u001b[1;33m\n",
       "\u001b[0m            \u001b[1;34m\"from_logits\"\u001b[0m\u001b[1;33m:\u001b[0m \u001b[0mself\u001b[0m\u001b[1;33m.\u001b[0m\u001b[0mfrom_logits\u001b[0m\u001b[1;33m,\u001b[0m\u001b[1;33m\n",
       "\u001b[0m            \u001b[1;34m\"label_smoothing\"\u001b[0m\u001b[1;33m:\u001b[0m \u001b[0mself\u001b[0m\u001b[1;33m.\u001b[0m\u001b[0mlabel_smoothing\u001b[0m\u001b[1;33m,\u001b[0m\u001b[1;33m\n",
       "\u001b[0m            \u001b[1;34m\"axis\"\u001b[0m\u001b[1;33m:\u001b[0m \u001b[0mself\u001b[0m\u001b[1;33m.\u001b[0m\u001b[0maxis\u001b[0m\u001b[1;33m,\u001b[0m\u001b[1;33m\n",
       "\u001b[0m        \u001b[1;33m}\u001b[0m\u001b[1;33m\u001b[0m\u001b[1;33m\u001b[0m\u001b[0m\n",
       "\u001b[1;31mFile:\u001b[0m           c:\\programdata\\anaconda3\\lib\\site-packages\\keras\\src\\losses\\losses.py\n",
       "\u001b[1;31mType:\u001b[0m           type\n",
       "\u001b[1;31mSubclasses:\u001b[0m     "
      ]
     },
     "metadata": {},
     "output_type": "display_data"
    }
   ],
   "source": [
    "tf.losses.BinaryCrossentropy??"
   ]
  },
  {
   "cell_type": "code",
   "execution_count": 199,
   "id": "e6b36ba4-7cb8-4d8d-acbd-7e9d3cc7ba4a",
   "metadata": {},
   "outputs": [],
   "source": [
    "#BUILD TRAIN STEP FUNCTION\n",
    "@tf.function\n",
    "def train_step(batch):\n",
    "    \n",
    "    # Record all of our operations \n",
    "    with tf.GradientTape() as tape:     \n",
    "        # Get anchor and positive/negative image\n",
    "        images = batch[:2]\n",
    "        # Get label\n",
    "        labels = batch[2]\n",
    "        \n",
    "        # Forward pass\n",
    "        predictions = siamese_model(images, training=True)\n",
    "        # Calculate loss\n",
    "        loss = binary_cross_entropy_loss(labels, predictions)\n",
    "    print(loss)\n",
    "        \n",
    "    # Calculate gradients\n",
    "    gradients = tape.gradient(loss, siamese_model.trainable_variables)\n",
    "    \n",
    "    # Calculate updated weights and apply to siamese model\n",
    "    adam_optimizer.apply_gradients(zip(gradients, siamese_model.trainable_variables))\n",
    "    \n",
    "    # Return loss\n",
    "    return loss\n"
   ]
  },
  {
   "cell_type": "code",
   "execution_count": 274,
   "id": "a60a1ea4-0c9e-456c-8273-4793ea9aa269",
   "metadata": {},
   "outputs": [],
   "source": [
    "ef colorful_train(data, num_epochs):\n",
    "    # Initialize a list to store losses for plotting\n",
    "    losses = []\n",
    "    \n",
    "    # Loop through epochs\n",
    "    for epoch in range(1, num_epochs + 1):\n",
    "        print('\\033[95m\\n Epoch {}/{}\\033[0m'.format(epoch, num_epochs))\n",
    "        progbar = tf.keras.utils.Progbar(len(data))\n",
    "        epoch_loss = []\n",
    "        \n",
    "        # Loop through each batch\n",
    "        for idx, batch in enumerate(data):\n",
    "            # Run train step\n",
    "            loss = train_step(batch)\n",
    "            epoch_loss.append(loss)\n",
    "            progbar.update(idx + 1)\n",
    "        \n",
    "        # Calculate average loss for the epoch\n",
    "        avg_epoch_loss = tf.reduce_mean(epoch_loss)\n",
    "        losses.append(avg_epoch_loss)\n",
    "        \n",
    "        # Save checkpoints every 10 epochs\n",
    "        if epoch % 10 == 0:\n",
    "            checkpoint.save(file_prefix=checkpoint_prefix)"
   ]
  },
  {
   "cell_type": "code",
   "execution_count": null,
   "id": "610660bb-6da0-442c-a43c-233777eecc44",
   "metadata": {},
   "outputs": [],
   "source": [
    "    plt.plot(losses)\n",
    "    plt.title('Training Loss Curve')\n",
    "    plt.xlabel('Epoch')\n",
    "    plt.ylabel('Loss')\n",
    "    plt.show()"
   ]
  },
  {
   "cell_type": "code",
   "execution_count": 202,
   "id": "68cbe44f-d021-4ae9-8373-854c713aa239",
   "metadata": {},
   "outputs": [
    {
     "name": "stdout",
     "output_type": "stream",
     "text": [
      "\u001b[95m\n",
      " Epoch 1/50\u001b[0m\n",
      "Tensor(\"binary_crossentropy/truediv:0\", shape=(), dtype=float32)\n",
      "Tensor(\"binary_crossentropy/truediv:0\", shape=(), dtype=float32)\n",
      "\u001b[1m21/22\u001b[0m \u001b[32m━━━━━━━━━━━━━━━━━━━\u001b[0m\u001b[37m━\u001b[0m \u001b[1m3s\u001b[0m 3s/stepTensor(\"binary_crossentropy/truediv:0\", shape=(), dtype=float32)\n",
      "\u001b[1m22/22\u001b[0m \u001b[32m━━━━━━━━━━━━━━━━━━━━\u001b[0m\u001b[37m\u001b[0m \u001b[1m75s\u001b[0m 3s/step\n",
      "\u001b[95m\n",
      " Epoch 2/50\u001b[0m\n",
      "\u001b[1m22/22\u001b[0m \u001b[32m━━━━━━━━━━━━━━━━━━━━\u001b[0m\u001b[37m\u001b[0m \u001b[1m67s\u001b[0m 3s/step\n",
      "\u001b[95m\n",
      " Epoch 3/50\u001b[0m\n",
      "\u001b[1m22/22\u001b[0m \u001b[32m━━━━━━━━━━━━━━━━━━━━\u001b[0m\u001b[37m\u001b[0m \u001b[1m66s\u001b[0m 3s/step\n",
      "\u001b[95m\n",
      " Epoch 4/50\u001b[0m\n",
      "\u001b[1m22/22\u001b[0m \u001b[32m━━━━━━━━━━━━━━━━━━━━\u001b[0m\u001b[37m\u001b[0m \u001b[1m70s\u001b[0m 3s/step\n",
      "\u001b[95m\n",
      " Epoch 5/50\u001b[0m\n",
      "\u001b[1m22/22\u001b[0m \u001b[32m━━━━━━━━━━━━━━━━━━━━\u001b[0m\u001b[37m\u001b[0m \u001b[1m70s\u001b[0m 3s/step\n",
      "\u001b[95m\n",
      " Epoch 6/50\u001b[0m\n",
      "\u001b[1m22/22\u001b[0m \u001b[32m━━━━━━━━━━━━━━━━━━━━\u001b[0m\u001b[37m\u001b[0m \u001b[1m62s\u001b[0m 3s/step\n",
      "\u001b[95m\n",
      " Epoch 7/50\u001b[0m\n",
      "\u001b[1m22/22\u001b[0m \u001b[32m━━━━━━━━━━━━━━━━━━━━\u001b[0m\u001b[37m\u001b[0m \u001b[1m61s\u001b[0m 3s/step\n",
      "\u001b[95m\n",
      " Epoch 8/50\u001b[0m\n",
      "\u001b[1m22/22\u001b[0m \u001b[32m━━━━━━━━━━━━━━━━━━━━\u001b[0m\u001b[37m\u001b[0m \u001b[1m60s\u001b[0m 3s/step\n",
      "\u001b[95m\n",
      " Epoch 9/50\u001b[0m\n",
      "\u001b[1m22/22\u001b[0m \u001b[32m━━━━━━━━━━━━━━━━━━━━\u001b[0m\u001b[37m\u001b[0m \u001b[1m72s\u001b[0m 3s/step\n",
      "\u001b[95m\n",
      " Epoch 10/50\u001b[0m\n",
      "\u001b[1m22/22\u001b[0m \u001b[32m━━━━━━━━━━━━━━━━━━━━\u001b[0m\u001b[37m\u001b[0m \u001b[1m67s\u001b[0m 3s/step\n",
      "\u001b[95m\n",
      " Epoch 11/50\u001b[0m\n",
      "\u001b[1m22/22\u001b[0m \u001b[32m━━━━━━━━━━━━━━━━━━━━\u001b[0m\u001b[37m\u001b[0m \u001b[1m63s\u001b[0m 3s/step\n",
      "\u001b[95m\n",
      " Epoch 12/50\u001b[0m\n",
      "\u001b[1m22/22\u001b[0m \u001b[32m━━━━━━━━━━━━━━━━━━━━\u001b[0m\u001b[37m\u001b[0m \u001b[1m58s\u001b[0m 3s/step\n",
      "\u001b[95m\n",
      " Epoch 13/50\u001b[0m\n",
      "\u001b[1m22/22\u001b[0m \u001b[32m━━━━━━━━━━━━━━━━━━━━\u001b[0m\u001b[37m\u001b[0m \u001b[1m57s\u001b[0m 3s/step\n",
      "\u001b[95m\n",
      " Epoch 14/50\u001b[0m\n",
      "\u001b[1m22/22\u001b[0m \u001b[32m━━━━━━━━━━━━━━━━━━━━\u001b[0m\u001b[37m\u001b[0m \u001b[1m57s\u001b[0m 3s/step\n",
      "\u001b[95m\n",
      " Epoch 15/50\u001b[0m\n",
      "\u001b[1m22/22\u001b[0m \u001b[32m━━━━━━━━━━━━━━━━━━━━\u001b[0m\u001b[37m\u001b[0m \u001b[1m57s\u001b[0m 3s/step\n",
      "\u001b[95m\n",
      " Epoch 16/50\u001b[0m\n",
      "\u001b[1m22/22\u001b[0m \u001b[32m━━━━━━━━━━━━━━━━━━━━\u001b[0m\u001b[37m\u001b[0m \u001b[1m58s\u001b[0m 3s/step\n",
      "\u001b[95m\n",
      " Epoch 17/50\u001b[0m\n",
      "\u001b[1m22/22\u001b[0m \u001b[32m━━━━━━━━━━━━━━━━━━━━\u001b[0m\u001b[37m\u001b[0m \u001b[1m57s\u001b[0m 3s/step\n",
      "\u001b[95m\n",
      " Epoch 18/50\u001b[0m\n",
      "\u001b[1m22/22\u001b[0m \u001b[32m━━━━━━━━━━━━━━━━━━━━\u001b[0m\u001b[37m\u001b[0m \u001b[1m58s\u001b[0m 3s/step\n",
      "\u001b[95m\n",
      " Epoch 19/50\u001b[0m\n",
      "\u001b[1m22/22\u001b[0m \u001b[32m━━━━━━━━━━━━━━━━━━━━\u001b[0m\u001b[37m\u001b[0m \u001b[1m58s\u001b[0m 3s/step\n",
      "\u001b[95m\n",
      " Epoch 20/50\u001b[0m\n",
      "\u001b[1m22/22\u001b[0m \u001b[32m━━━━━━━━━━━━━━━━━━━━\u001b[0m\u001b[37m\u001b[0m \u001b[1m58s\u001b[0m 3s/step\n",
      "\u001b[95m\n",
      " Epoch 21/50\u001b[0m\n",
      "\u001b[1m22/22\u001b[0m \u001b[32m━━━━━━━━━━━━━━━━━━━━\u001b[0m\u001b[37m\u001b[0m \u001b[1m58s\u001b[0m 3s/step\n",
      "\u001b[95m\n",
      " Epoch 22/50\u001b[0m\n",
      "\u001b[1m22/22\u001b[0m \u001b[32m━━━━━━━━━━━━━━━━━━━━\u001b[0m\u001b[37m\u001b[0m \u001b[1m58s\u001b[0m 3s/step\n",
      "\u001b[95m\n",
      " Epoch 23/50\u001b[0m\n",
      "\u001b[1m22/22\u001b[0m \u001b[32m━━━━━━━━━━━━━━━━━━━━\u001b[0m\u001b[37m\u001b[0m \u001b[1m58s\u001b[0m 3s/step\n",
      "\u001b[95m\n",
      " Epoch 24/50\u001b[0m\n",
      "\u001b[1m22/22\u001b[0m \u001b[32m━━━━━━━━━━━━━━━━━━━━\u001b[0m\u001b[37m\u001b[0m \u001b[1m58s\u001b[0m 3s/step\n",
      "\u001b[95m\n",
      " Epoch 25/50\u001b[0m\n",
      "\u001b[1m22/22\u001b[0m \u001b[32m━━━━━━━━━━━━━━━━━━━━\u001b[0m\u001b[37m\u001b[0m \u001b[1m61s\u001b[0m 3s/step\n",
      "\u001b[95m\n",
      " Epoch 26/50\u001b[0m\n",
      "\u001b[1m22/22\u001b[0m \u001b[32m━━━━━━━━━━━━━━━━━━━━\u001b[0m\u001b[37m\u001b[0m \u001b[1m59s\u001b[0m 3s/step\n",
      "\u001b[95m\n",
      " Epoch 27/50\u001b[0m\n",
      "\u001b[1m22/22\u001b[0m \u001b[32m━━━━━━━━━━━━━━━━━━━━\u001b[0m\u001b[37m\u001b[0m \u001b[1m58s\u001b[0m 3s/step\n",
      "\u001b[95m\n",
      " Epoch 28/50\u001b[0m\n",
      "\u001b[1m22/22\u001b[0m \u001b[32m━━━━━━━━━━━━━━━━━━━━\u001b[0m\u001b[37m\u001b[0m \u001b[1m58s\u001b[0m 3s/step\n",
      "\u001b[95m\n",
      " Epoch 29/50\u001b[0m\n",
      "\u001b[1m22/22\u001b[0m \u001b[32m━━━━━━━━━━━━━━━━━━━━\u001b[0m\u001b[37m\u001b[0m \u001b[1m58s\u001b[0m 3s/step\n",
      "\u001b[95m\n",
      " Epoch 30/50\u001b[0m\n",
      "\u001b[1m22/22\u001b[0m \u001b[32m━━━━━━━━━━━━━━━━━━━━\u001b[0m\u001b[37m\u001b[0m \u001b[1m58s\u001b[0m 3s/step\n",
      "\u001b[95m\n",
      " Epoch 31/50\u001b[0m\n",
      "\u001b[1m22/22\u001b[0m \u001b[32m━━━━━━━━━━━━━━━━━━━━\u001b[0m\u001b[37m\u001b[0m \u001b[1m58s\u001b[0m 3s/step\n",
      "\u001b[95m\n",
      " Epoch 32/50\u001b[0m\n",
      "\u001b[1m22/22\u001b[0m \u001b[32m━━━━━━━━━━━━━━━━━━━━\u001b[0m\u001b[37m\u001b[0m \u001b[1m58s\u001b[0m 3s/step\n",
      "\u001b[95m\n",
      " Epoch 33/50\u001b[0m\n",
      "\u001b[1m22/22\u001b[0m \u001b[32m━━━━━━━━━━━━━━━━━━━━\u001b[0m\u001b[37m\u001b[0m \u001b[1m58s\u001b[0m 3s/step\n",
      "\u001b[95m\n",
      " Epoch 34/50\u001b[0m\n",
      "\u001b[1m22/22\u001b[0m \u001b[32m━━━━━━━━━━━━━━━━━━━━\u001b[0m\u001b[37m\u001b[0m \u001b[1m58s\u001b[0m 3s/step\n",
      "\u001b[95m\n",
      " Epoch 35/50\u001b[0m\n",
      "\u001b[1m22/22\u001b[0m \u001b[32m━━━━━━━━━━━━━━━━━━━━\u001b[0m\u001b[37m\u001b[0m \u001b[1m59s\u001b[0m 3s/step\n",
      "\u001b[95m\n",
      " Epoch 36/50\u001b[0m\n",
      "\u001b[1m22/22\u001b[0m \u001b[32m━━━━━━━━━━━━━━━━━━━━\u001b[0m\u001b[37m\u001b[0m \u001b[1m58s\u001b[0m 3s/step\n",
      "\u001b[95m\n",
      " Epoch 37/50\u001b[0m\n",
      "\u001b[1m22/22\u001b[0m \u001b[32m━━━━━━━━━━━━━━━━━━━━\u001b[0m\u001b[37m\u001b[0m \u001b[1m58s\u001b[0m 3s/step\n",
      "\u001b[95m\n",
      " Epoch 38/50\u001b[0m\n",
      "\u001b[1m22/22\u001b[0m \u001b[32m━━━━━━━━━━━━━━━━━━━━\u001b[0m\u001b[37m\u001b[0m \u001b[1m58s\u001b[0m 3s/step\n",
      "\u001b[95m\n",
      " Epoch 39/50\u001b[0m\n",
      "\u001b[1m22/22\u001b[0m \u001b[32m━━━━━━━━━━━━━━━━━━━━\u001b[0m\u001b[37m\u001b[0m \u001b[1m58s\u001b[0m 3s/step\n",
      "\u001b[95m\n",
      " Epoch 40/50\u001b[0m\n",
      "\u001b[1m22/22\u001b[0m \u001b[32m━━━━━━━━━━━━━━━━━━━━\u001b[0m\u001b[37m\u001b[0m \u001b[1m58s\u001b[0m 3s/step\n",
      "\u001b[95m\n",
      " Epoch 41/50\u001b[0m\n",
      "\u001b[1m22/22\u001b[0m \u001b[32m━━━━━━━━━━━━━━━━━━━━\u001b[0m\u001b[37m\u001b[0m \u001b[1m75s\u001b[0m 3s/step\n",
      "\u001b[95m\n",
      " Epoch 42/50\u001b[0m\n",
      "\u001b[1m22/22\u001b[0m \u001b[32m━━━━━━━━━━━━━━━━━━━━\u001b[0m\u001b[37m\u001b[0m \u001b[1m62s\u001b[0m 3s/step\n",
      "\u001b[95m\n",
      " Epoch 43/50\u001b[0m\n",
      "\u001b[1m22/22\u001b[0m \u001b[32m━━━━━━━━━━━━━━━━━━━━\u001b[0m\u001b[37m\u001b[0m \u001b[1m59s\u001b[0m 3s/step\n",
      "\u001b[95m\n",
      " Epoch 44/50\u001b[0m\n",
      "\u001b[1m22/22\u001b[0m \u001b[32m━━━━━━━━━━━━━━━━━━━━\u001b[0m\u001b[37m\u001b[0m \u001b[1m59s\u001b[0m 3s/step\n",
      "\u001b[95m\n",
      " Epoch 45/50\u001b[0m\n",
      "\u001b[1m22/22\u001b[0m \u001b[32m━━━━━━━━━━━━━━━━━━━━\u001b[0m\u001b[37m\u001b[0m \u001b[1m59s\u001b[0m 3s/step\n",
      "\u001b[95m\n",
      " Epoch 46/50\u001b[0m\n",
      "\u001b[1m22/22\u001b[0m \u001b[32m━━━━━━━━━━━━━━━━━━━━\u001b[0m\u001b[37m\u001b[0m \u001b[1m59s\u001b[0m 3s/step\n",
      "\u001b[95m\n",
      " Epoch 47/50\u001b[0m\n",
      "\u001b[1m22/22\u001b[0m \u001b[32m━━━━━━━━━━━━━━━━━━━━\u001b[0m\u001b[37m\u001b[0m \u001b[1m60s\u001b[0m 3s/step\n",
      "\u001b[95m\n",
      " Epoch 48/50\u001b[0m\n",
      "\u001b[1m22/22\u001b[0m \u001b[32m━━━━━━━━━━━━━━━━━━━━\u001b[0m\u001b[37m\u001b[0m \u001b[1m58s\u001b[0m 3s/step\n",
      "\u001b[95m\n",
      " Epoch 49/50\u001b[0m\n",
      "\u001b[1m22/22\u001b[0m \u001b[32m━━━━━━━━━━━━━━━━━━━━\u001b[0m\u001b[37m\u001b[0m \u001b[1m58s\u001b[0m 3s/step\n",
      "\u001b[95m\n",
      " Epoch 50/50\u001b[0m\n",
      "\u001b[1m22/22\u001b[0m \u001b[32m━━━━━━━━━━━━━━━━━━━━\u001b[0m\u001b[37m\u001b[0m \u001b[1m63s\u001b[0m 3s/step\n"
     ]
    }
   ],
   "source": [
    "EPOCHS = 50\n",
    "colorful_train(train_data, EPOCHS)\n",
    "\n"
   ]
  },
  {
   "cell_type": "markdown",
   "id": "f4f089be-3cf9-4480-806e-1c5aa5e35b2d",
   "metadata": {},
   "source": [
    "## Model Evlaution\n",
    "\n",
    "\n",
    "\n",
    "\n",
    "\n",
    "\n"
   ]
  },
  {
   "cell_type": "code",
   "execution_count": 206,
   "id": "114e294b-8d7b-44c6-8373-b94e35b26dda",
   "metadata": {},
   "outputs": [],
   "source": [
    "# prediction making\n",
    "from tensorflow.keras.metrics import Recall, Precision\n"
   ]
  },
  {
   "cell_type": "code",
   "execution_count": 209,
   "id": "9159ec5d-6f3a-4bd8-bd33-ca00194b741b",
   "metadata": {},
   "outputs": [],
   "source": [
    "# Get a batch of test data\n",
    "test_input, test_val, y_true = eval_data.as_numpy_iterator().next()"
   ]
  },
  {
   "cell_type": "code",
   "execution_count": 210,
   "id": "f40ac952-a66f-41b7-9916-bb1071098767",
   "metadata": {},
   "outputs": [
    {
     "data": {
      "text/plain": [
       "(16, 100, 100, 3)"
      ]
     },
     "execution_count": 210,
     "metadata": {},
     "output_type": "execute_result"
    }
   ],
   "source": [
    "test_input.shape"
   ]
  },
  {
   "cell_type": "code",
   "execution_count": 211,
   "id": "c87dae67-e5d7-46d0-8320-ba726acee011",
   "metadata": {},
   "outputs": [
    {
     "name": "stdout",
     "output_type": "stream",
     "text": [
      "\u001b[1m1/1\u001b[0m \u001b[32m━━━━━━━━━━━━━━━━━━━━\u001b[0m\u001b[37m\u001b[0m \u001b[1m1s\u001b[0m 1s/step\n"
     ]
    },
    {
     "data": {
      "text/plain": [
       "array([[1.0000000e+00],\n",
       "       [1.3706660e-03],\n",
       "       [1.0000000e+00],\n",
       "       [2.9824925e-09],\n",
       "       [1.0000000e+00],\n",
       "       [2.4067335e-09],\n",
       "       [2.2621198e-07],\n",
       "       [9.9950749e-01],\n",
       "       [9.9988741e-01],\n",
       "       [2.5018609e-10],\n",
       "       [9.9999970e-01],\n",
       "       [2.8725549e-09],\n",
       "       [9.9999964e-01],\n",
       "       [3.9466035e-09],\n",
       "       [2.3229106e-08],\n",
       "       [4.3482524e-07]], dtype=float32)"
      ]
     },
     "execution_count": 211,
     "metadata": {},
     "output_type": "execute_result"
    }
   ],
   "source": [
    "y_pred = siamese_model.predict([test_input, test_val])\n",
    "y_pred"
   ]
  },
  {
   "cell_type": "code",
   "execution_count": 212,
   "id": "300ab42d-dd42-4061-951e-6a273fbb9517",
   "metadata": {},
   "outputs": [
    {
     "data": {
      "text/plain": [
       "[1, 0, 1, 0, 1, 0, 0, 1, 1, 0, 1, 0, 1, 0, 0, 0]"
      ]
     },
     "execution_count": 212,
     "metadata": {},
     "output_type": "execute_result"
    }
   ],
   "source": [
    "[1 if prediction > 0.5 else 0 for prediction in y_pred]"
   ]
  },
  {
   "cell_type": "code",
   "execution_count": 213,
   "id": "54063fd5-09c2-4047-aed1-751c6e576270",
   "metadata": {},
   "outputs": [
    {
     "data": {
      "text/plain": [
       "array([1., 0., 1., 0., 1., 0., 0., 1., 1., 0., 1., 0., 1., 0., 0., 0.],\n",
       "      dtype=float32)"
      ]
     },
     "execution_count": 213,
     "metadata": {},
     "output_type": "execute_result"
    }
   ],
   "source": [
    "y_true"
   ]
  },
  {
   "cell_type": "code",
   "execution_count": 218,
   "id": "b7cbd5c4-28a0-4acb-b493-2c40c83b80b3",
   "metadata": {},
   "outputs": [
    {
     "data": {
      "text/plain": [
       "1.0"
      ]
     },
     "execution_count": 218,
     "metadata": {},
     "output_type": "execute_result"
    }
   ],
   "source": [
    "# Creating a metric object \n",
    "o = Recall()\n",
    "\n",
    "# Calculating the recall value \n",
    "o.update_state(y_true, y_pred)\n",
    "\n",
    "# Return Recall Result\n",
    "o.result().numpy()"
   ]
  },
  {
   "cell_type": "code",
   "execution_count": 219,
   "id": "a7c18877-5ca1-4255-a09a-c2da4051ea5c",
   "metadata": {},
   "outputs": [
    {
     "data": {
      "text/plain": [
       "1.0"
      ]
     },
     "execution_count": 219,
     "metadata": {},
     "output_type": "execute_result"
    }
   ],
   "source": [
    "# Creating a metric object \n",
    "obj = Precision()\n",
    "\n",
    "# Calculating the recall value \n",
    "obj.update_state(y_true, y_pred)\n",
    "\n",
    "# Return Recall Result\n",
    "obj.result().numpy()"
   ]
  },
  {
   "cell_type": "code",
   "execution_count": null,
   "id": "ebf97655-50e1-4eda-b55d-82a79b919b2e",
   "metadata": {},
   "outputs": [],
   "source": []
  },
  {
   "cell_type": "markdown",
   "id": "4dae57de-d875-4caf-ade2-534e164c89e6",
   "metadata": {},
   "source": [
    "#### CNNMODEL"
   ]
  },
  {
   "cell_type": "code",
   "execution_count": null,
   "id": "96fd29f5-fa77-4c8d-a760-03bbcc3ae23b",
   "metadata": {},
   "outputs": [],
   "source": []
  },
  {
   "cell_type": "code",
   "execution_count": 235,
   "id": "d3f44774-afb6-4eeb-8296-d7f3148c3007",
   "metadata": {},
   "outputs": [
    {
     "name": "stdout",
     "output_type": "stream",
     "text": [
      "Train data shapes:\n",
      "Anchor shape: (16, 100, 100, 3)\n",
      "Positive shape: (16, 100, 100, 3)\n",
      "Label shape: (16,)\n",
      "\n",
      "Evaluation data shapes:\n",
      "Anchor shape: (16, 100, 100, 3)\n",
      "Positive shape: (16, 100, 100, 3)\n",
      "Label shape: (16,)\n"
     ]
    }
   ],
   "source": [
    "# Check the shapes of your training and evaluation data\n",
    "print(\"Train data shapes:\")\n",
    "for data in train_data.take(1):  # Take one batch of training data\n",
    "    print(\"Anchor shape:\", data[0].shape)\n",
    "    print(\"Positive shape:\", data[1].shape)\n",
    "    print(\"Label shape:\", data[2].shape)\n",
    "\n",
    "print(\"\\nEvaluation data shapes:\")\n",
    "for data in eval_data.take(1):  # Take one batch of evaluation data\n",
    "    print(\"Anchor shape:\", data[0].shape)\n",
    "    print(\"Positive shape:\", data[1].shape)\n",
    "    print(\"Label shape:\", data[2].shape)\n"
   ]
  },
  {
   "cell_type": "code",
   "execution_count": 286,
   "id": "71c9d738-c6c1-4eaf-bccc-b5b99356b5d4",
   "metadata": {},
   "outputs": [],
   "source": [
    "import os\n",
    "import cv2\n",
    "import numpy as np\n",
    "from sklearn.model_selection import train_test_split\n",
    "\n",
    "# Define the directory containing your dataset\n",
    "dataset_directory = r\"C:\\Users\\AA\\Desktop\\AI project\\data\"\n",
    "\n",
    "\n",
    "# Define the paths to the positive, negative, and anchor folders\n",
    "positive_dir = os.path.join(dataset_directory, \"positive\")\n",
    "negative_dir = os.path.join(dataset_directory, \"negative\")\n",
    "anchor_dir = os.path.join(dataset_directory, \"anchor\")\n",
    "\n",
    "# Function to load and preprocess images from a directory\n",
    "def load_images_from_dir(directory):\n",
    "    images = []\n",
    "    for filename in os.listdir(directory):\n",
    "        image_path = os.path.join(directory, filename)\n",
    "        # Read and preprocess the image (e.g., resize, normalize)\n",
    "        image = cv2.imread(image_path)\n",
    "        image = cv2.resize(image, (100, 100))  # Resize to 100x100\n",
    "        image = image / 255.0  # Normalize pixel values (assuming RGB images)\n",
    "        images.append(image)\n",
    "    return np.array(images)\n",
    "\n",
    "# Load images from positive, negative, and anchor directories\n",
    "positive_images = load_images_from_dir(positive_dir)\n",
    "negative_images = load_images_from_dir(negative_dir)\n",
    "anchor_images = load_images_from_dir(anchor_dir)\n",
    "\n",
    "# Create labels for positive and negative images\n",
    "positive_labels = np.ones(len(positive_images))  # Label 1 for positive images\n",
    "negative_labels = np.zeros(len(negative_images))  # Label 0 for negative images\n",
    "\n",
    "# Combine positive and negative images and labels\n",
    "X = np.concatenate((positive_images, negative_images), axis=0)\n",
    "y = np.concatenate((positive_labels, negative_labels), axis=0)\n",
    "\n",
    "# Split the dataset into training and testing sets\n",
    "X_train, X_test, y_train, y_test = train_test_split(X, y, test_size=0.2, random_state=42)\n",
    "\n",
    "# Now you have X_train, y_train, X_test, y_test ready for training and testing\n"
   ]
  },
  {
   "cell_type": "code",
   "execution_count": null,
   "id": "e94216e3-cb84-4be6-96a1-17d773a6eec1",
   "metadata": {},
   "outputs": [],
   "source": [
    "import tensorflow as tf\n",
    "import pandas as pd\n",
    "import matplotlib.pyplot as plt\n",
    "from tensorflow.keras.models import Sequential\n",
    "from tensorflow.keras.layers import Conv2D, MaxPooling2D, Flatten, Dense\n",
    "from tensorflow.keras.optimizers import Adam\n",
    "\n",
    "# Define a function to create and train the model with a specific learning rate\n",
    "def train_model_with_lr(learning_rate):\n",
    "    model = Sequential([\n",
    "        Conv2D(32, (3, 3), activation='relu'),\n",
    "        MaxPooling2D((2, 2)),\n",
    "        Conv2D(64, (3, 3), activation='relu'),\n",
    "        MaxPooling2D((2, 2)),\n",
    "        Conv2D(64, (3, 3), activation='relu'),\n",
    "        MaxPooling2D((2, 2)),\n",
    "        Flatten(),\n",
    "        Dense(64, activation='relu'),\n",
    "        Dense(1, activation='sigmoid')\n",
    "    ])\n",
    "    model.compile(optimizer=Adam(learning_rate=learning_rate),\n",
    "                  loss='binary_crossentropy',\n",
    "                  metrics=['accuracy'])\n",
    "    history = model.fit(X_train, y_train, epochs=10, batch_size=16, validation_data=(X_test, y_test), verbose=0)\n",
    "    return history\n",
    "\n",
    "# Define a list of learning rates to try\n",
    "learning_rates = [0.001, 0.01, 0.1]\n",
    "\n",
    "# Train models with different learning rates and record training history\n",
    "models_history = {}\n",
    "for lr in learning_rates:\n",
    "    history = train_model_with_lr(lr)\n",
    "    models_history[f'LR={lr}'] = history\n",
    "\n",
    "# Plot the training history for each model\n",
    "plt.figure(figsize=(10, 6))\n",
    "for lr, history in models_history.items():\n",
    "    plt.plot(history.history['loss'], label=f'Training Loss ({lr})')\n",
    "\n",
    "plt.title('Change in Training Loss Over Epochs for Different Learning Rates')\n",
    "plt.xlabel('Epochs')\n",
    "plt.ylabel('Training Loss')\n",
    "plt.legend()\n",
    "plt.grid(True)\n",
    "plt.show()\n",
    "\n",
    "# Create a table to summarize the results\n",
    "results_df = pd.DataFrame(columns=['Learning Rate', 'Final Training Loss', 'Final Training Accuracy', 'Final Testing Loss', 'Final Testing Accuracy'])\n",
    "for lr, history in models_history.items():\n",
    "    final_train_loss = history.history['loss'][-1]\n",
    "    final_train_accuracy = history.history['accuracy'][-1]\n",
    "    final_test_loss = history.history['val_loss'][-1]\n",
    "    final_test_accuracy = history.history['val_accuracy'][-1]\n",
    "    results_df = results_df.append({'Learning Rate': lr,\n",
    "                                    'Final Training Loss': final_train_loss,\n",
    "                                    'Final Training Accuracy': final_train_accuracy,\n",
    "                                    'Final Testing Loss': final_test_loss,\n",
    "                                    'Final Testing Accuracy': final_test_accuracy}, ignore_index=True)\n",
    "\n",
    "# Highlight the best-performing model\n",
    "best_model_idx = results_df['Final Testing Accuracy'].idxmax()\n",
    "results_df.loc[best_model_idx, 'Learning Rate'] = f'*{results_df.loc[best_model_idx, \"Learning Rate\"]}'\n",
    "\n",
    "print(results_df)\n"
   ]
  },
  {
   "cell_type": "code",
   "execution_count": null,
   "id": "96070698-b257-40a0-8814-916b4a7ad33c",
   "metadata": {},
   "outputs": [],
   "source": []
  }
 ],
 "metadata": {
  "kernelspec": {
   "display_name": "Python 3 (ipykernel)",
   "language": "python",
   "name": "python3"
  },
  "language_info": {
   "codemirror_mode": {
    "name": "ipython",
    "version": 3
   },
   "file_extension": ".py",
   "mimetype": "text/x-python",
   "name": "python",
   "nbconvert_exporter": "python",
   "pygments_lexer": "ipython3",
   "version": "3.11.7"
  }
 },
 "nbformat": 4,
 "nbformat_minor": 5
}
